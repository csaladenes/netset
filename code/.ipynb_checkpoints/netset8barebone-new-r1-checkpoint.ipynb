{
 "cells": [
  {
   "cell_type": "markdown",
   "metadata": {},
   "source": [
    "# Sustainable energy transitions data model"
   ]
  },
  {
   "cell_type": "code",
   "execution_count": 30,
   "metadata": {
    "collapsed": false
   },
   "outputs": [],
   "source": [
    "import pandas as pd, numpy as np, json, copy, zipfile, random, requests, StringIO"
   ]
  },
  {
   "cell_type": "code",
   "execution_count": 31,
   "metadata": {
    "collapsed": false
   },
   "outputs": [
    {
     "data": {
      "image/png": "ZmF2aWNvbi5wbmc=\n",
      "text/plain": [
       "<IPython.core.display.Image object>"
      ]
     },
     "execution_count": 31,
     "metadata": {},
     "output_type": "execute_result"
    }
   ],
   "source": [
    "import matplotlib.pyplot as plt\n",
    "%matplotlib inline\n",
    "plt.style.use('ggplot')\n",
    "from IPython.core.display import Image \n",
    "Image('favicon.png') "
   ]
  },
  {
   "cell_type": "markdown",
   "metadata": {},
   "source": [
    "## Country and region name converters"
   ]
  },
  {
   "cell_type": "code",
   "execution_count": 32,
   "metadata": {
    "collapsed": false
   },
   "outputs": [],
   "source": [
    "#country name converters\n",
    "\n",
    "#EIA->pop\n",
    "clist1={'North America':'Northern America',\n",
    "'United States':'United States of America',\n",
    "'Central & South America':'Latin America and the Caribbean',\n",
    "'Bahamas, The':'Bahamas',\n",
    "'Saint Vincent/Grenadines':'Saint Vincent and the Grenadines',\n",
    "'Venezuela':'Venezuela (Bolivarian Republic of)',\n",
    "'Macedonia':'The former Yugoslav Republic of Macedonia',\n",
    "'Moldova':'Republic of Moldova',\n",
    "'Russia':'Russian Federation',\n",
    "'Iran':'Iran (Islamic Republic of)',\n",
    "'Palestinian Territories':'State of Palestine',\n",
    "'Syria':'Syrian Arab Republic',\n",
    "'Yemen':'Yemen ',\n",
    "'Congo (Brazzaville)':'Congo',\n",
    "'Congo (Kinshasa)':'Democratic Republic of the Congo',\n",
    "'Cote dIvoire (IvoryCoast)':\"C\\xc3\\xb4te d'Ivoire\",\n",
    "'Gambia, The':'Gambia',\n",
    "'Libya':'Libyan Arab Jamahiriya',\n",
    "'Reunion':'R\\xc3\\xa9union',\n",
    "'Somalia':'Somalia ',\n",
    "'Sudan and South Sudan':'Sudan',\n",
    "'Tanzania':'United Republic of Tanzania',\n",
    "'Brunei':'Brunei Darussalam',\n",
    "'Burma (Myanmar)':'Myanmar',\n",
    "'Hong Kong':'China, Hong Kong Special Administrative Region',\n",
    "'Korea, North':\"Democratic People's Republic of Korea\",\n",
    "'Korea, South':'Republic of Korea',\n",
    "'Laos':\"Lao People's Democratic Republic\",\n",
    "'Macau':'China, Macao Special Administrative Region',\n",
    "'Timor-Leste (East Timor)':'Timor-Leste',\n",
    "'Virgin Islands,  U.S.':'United States Virgin Islands',\n",
    "'Vietnam':'Viet Nam'}\n",
    "\n",
    "#BP->pop\n",
    "clist2={u'                 European Union #':u'Europe',\n",
    "u'Rep. of Congo (Brazzaville)':u'Congo (Brazzaville)',\n",
    "'Republic of Ireland':'Ireland',\n",
    "'China Hong Kong SAR':'China, Hong Kong Special Administrative Region',\n",
    "u'Total Africa':u'Africa',\n",
    "u'Total North America':u'Northern America',\n",
    "u'Total S. & Cent. America':'Latin America and the Caribbean',\n",
    "u'Total World':u'World',\n",
    "u'Total World ':u'World',\n",
    "'South Korea':'Republic of Korea',\n",
    "u'Trinidad & Tobago':u'Trinidad and Tobago',\n",
    "u'US':u'United States of America'}\n",
    "\n",
    "#WD->pop\n",
    "clist3={u\"Cote d'Ivoire\":\"C\\xc3\\xb4te d'Ivoire\",\n",
    "u'Congo, Rep.':u'Congo (Brazzaville)',\n",
    "u'Caribbean small states':'Carribean',\n",
    "u'East Asia & Pacific (all income levels)':'Eastern Asia',\n",
    "u'Egypt, Arab Rep.':'Egypt',\n",
    "u'European Union':u'Europe',\n",
    "u'Hong Kong SAR, China':u'China, Hong Kong Special Administrative Region',\n",
    "u'Iran, Islamic Rep.':u'Iran (Islamic Republic of)',\n",
    "u'Kyrgyz Republic':u'Kyrgyzstan',\n",
    "u'Korea, Rep.':u'Republic of Korea',\n",
    "u'Latin America & Caribbean (all income levels)':'Latin America and the Caribbean',\n",
    "u'Macedonia, FYR':u'The former Yugoslav Republic of Macedonia',\n",
    "u'Korea, Dem. Rep.':u\"Democratic People's Republic of Korea\",\n",
    "u'South Asia':u'Southern Asia',\n",
    "u'Sub-Saharan Africa (all income levels)':u'Sub-Saharan Africa',\n",
    "u'Slovak Republic':u'Slovakia',\n",
    "u'Venezuela, RB':u'Venezuela (Bolivarian Republic of)',\n",
    "u'Yemen, Rep.':u'Yemen ',\n",
    "u'Congo, Dem. Rep.':u'Democratic Republic of the Congo'}\n",
    "\n",
    "#COMTRADE->pop\n",
    "clist4={u\"Bosnia Herzegovina\":\"Bosnia and Herzegovina\",\n",
    "u'Central African Rep.':u'Central African Republic',\n",
    "u'China, Hong Kong SAR':u'China, Hong Kong Special Administrative Region',\n",
    "u'China, Macao SAR':u'China, Macao Special Administrative Region',\n",
    "u'Czech Rep.':u'Czech Republic',\n",
    "u\"Dem. People's Rep. of Korea\":\"Democratic People's Republic of Korea\",\n",
    "u'Dem. Rep. of the Congo':\"Democratic Republic of the Congo\",\n",
    "u'Dominican Rep.':u'Dominican Republic',\n",
    "u'Fmr Arab Rep. of Yemen':u'Yemen ',\n",
    "u'Fmr Ethiopia':u'Ethiopia',\n",
    "u'Fmr Fed. Rep. of Germany':u'Germany',\n",
    "u'Fmr Panama, excl.Canal Zone':u'Panama',\n",
    "u'Fmr Rep. of Vietnam':u'Viet Nam',\n",
    "u\"Lao People's Dem. Rep.\":u\"Lao People's Democratic Republic\",\n",
    "u'Occ. Palestinian Terr.':u'State of Palestine',\n",
    "u'Rep. of Korea':u'Republic of Korea',\n",
    "u'Rep. of Moldova':u'Republic of Moldova',\n",
    "u'Serbia and Montenegro':u'Serbia',\n",
    "u'US Virgin Isds':u'United States Virgin Islands',\n",
    "u'Solomon Isds':u'Solomon Islands',\n",
    "u'United Rep. of Tanzania':u'United Republic of Tanzania',\n",
    "u'TFYR of Macedonia':u'The former Yugoslav Republic of Macedonia',\n",
    "u'USA':u'United States of America',\n",
    "u'USA (before 1981)':u'United States of America',\n",
    "}\n",
    "\n",
    "#Jacobson->pop\n",
    "clist5={u\"Korea, Democratic People's Republic of\":\"Democratic People's Republic of Korea\",\n",
    "u'All countries':u'World',\n",
    "u\"Cote d'Ivoire\":\"C\\xc3\\xb4te d'Ivoire\",\n",
    "u'Iran, Islamic Republic of':u'Iran (Islamic Republic of)',\n",
    "u'Macedonia, Former Yugoslav Republic of':u'The former Yugoslav Republic of Macedonia',\n",
    "u'Congo, Democratic Republic of':u\"Democratic Republic of the Congo\",\n",
    "u'Korea, Republic of':u'Republic of Korea',\n",
    "u'Tanzania, United Republic of':u'United Republic of Tanzania',\n",
    "u'Moldova, Republic of':u'Republic of Moldova',\n",
    "u'Hong Kong, China':u'China, Hong Kong Special Administrative Region',\n",
    "u'All countries.1':\"World\"\n",
    "}\n",
    "\n",
    "#NREL solar->pop\n",
    "clist6={u\"Antigua & Barbuda\":u'Antigua and Barbuda',\n",
    "u\"Bosnia & Herzegovina\":u\"Bosnia and Herzegovina\",\n",
    "u\"Brunei\":u'Brunei Darussalam',\n",
    "u\"Cote d'Ivoire\":\"C\\xc3\\xb4te d'Ivoire\",\n",
    "u\"Iran\":u'Iran (Islamic Republic of)',\n",
    "u\"Laos\":u\"Lao People's Democratic Republic\",\n",
    "u\"Libya\":'Libyan Arab Jamahiriya',\n",
    "u\"Moldova\":u'Republic of Moldova',\n",
    "u\"North Korea\":\"Democratic People's Republic of Korea\",\n",
    "u\"Reunion\":'R\\xc3\\xa9union',\n",
    "u'Sao Tome & Principe':u'Sao Tome and Principe',\n",
    "u'Solomon Is.':u'Solomon Islands',\n",
    "u'St. Lucia':u'Saint Lucia',\n",
    "u'St. Vincent & the Grenadines':u'Saint Vincent and the Grenadines',\n",
    "u'The Bahamas':u'Bahamas',\n",
    "u'The Gambia':u'Gambia',\n",
    "u'Virgin Is.':u'United States Virgin Islands',\n",
    "u'West Bank':u'State of Palestine'\n",
    "}\n",
    "\n",
    "#NREL wind->pop\n",
    "clist7={u\"Antigua & Barbuda\":u'Antigua and Barbuda',\n",
    "u\"Bosnia & Herzegovina\":u\"Bosnia and Herzegovina\",\n",
    "u'Occupied Palestinian Territory':u'State of Palestine',\n",
    "u'China Macao SAR':u'China, Macao Special Administrative Region',\n",
    "#\"C\\xc3\\xb4te d'Ivoire\":\"C\\xc3\\xb4te d'Ivoire\",\n",
    "u'East Timor':u'Timor-Leste',\n",
    "u'TFYR Macedonia':u'The former Yugoslav Republic of Macedonia',\n",
    "u'IAM-country Total':u'World'\n",
    "}\n",
    "\n",
    "#country entroids->pop\n",
    "clist8={u'Burma':'Myanmar',\n",
    "u\"Cote d'Ivoire\":\"C\\xc3\\xb4te d'Ivoire\",\n",
    "u'Republic of the Congo':u'Congo (Brazzaville)',\n",
    "u'Reunion':'R\\xc3\\xa9union'\n",
    "}\n",
    "\n",
    "def cnc(country):\n",
    "    if country in clist1: return clist1[country]\n",
    "    elif country in clist2: return clist2[country]\n",
    "    elif country in clist3: return clist3[country]\n",
    "    elif country in clist4: return clist4[country]\n",
    "    elif country in clist5: return clist5[country]\n",
    "    elif country in clist6: return clist6[country]\n",
    "    elif country in clist7: return clist7[country]\n",
    "    elif country in clist8: return clist8[country]\n",
    "    else: return country"
   ]
  },
  {
   "cell_type": "markdown",
   "metadata": {},
   "source": [
    "# Population"
   ]
  },
  {
   "cell_type": "markdown",
   "metadata": {},
   "source": [
    "Consult the notebook entitled *pop.ipynb* for the details of mining the data from the UN statistics division online database.   \n",
    "Due to being the reference database for country names cell, the cell below needs to be run first, before any other databases."
   ]
  },
  {
   "cell_type": "code",
   "execution_count": 33,
   "metadata": {
    "collapsed": false
   },
   "outputs": [],
   "source": [
    "try:\n",
    "    import zlib\n",
    "    compression = zipfile.ZIP_DEFLATED\n",
    "except:\n",
    "    compression = zipfile.ZIP_STORED"
   ]
  },
  {
   "cell_type": "code",
   "execution_count": 34,
   "metadata": {
    "collapsed": false
   },
   "outputs": [],
   "source": [
    "#pop_path='https://dl.dropboxusercontent.com/u/531697/datarepo/Set/db/\n",
    "pop_path='E:/Dropbox/Public/datarepo/netset/db/'"
   ]
  },
  {
   "cell_type": "code",
   "execution_count": 35,
   "metadata": {
    "collapsed": true
   },
   "outputs": [],
   "source": [
    "#suppres warnings\n",
    "import warnings\n",
    "warnings.simplefilter(action = \"ignore\")"
   ]
  },
  {
   "cell_type": "code",
   "execution_count": 36,
   "metadata": {
    "collapsed": false
   },
   "outputs": [],
   "source": [
    "cc=pd.read_excel(pop_path+'Country Code and Name ISO2 ISO3.xls')\n",
    "#http://unstats.un.org/unsd/tradekb/Attachment321.aspx?AttachmentType=1"
   ]
  },
  {
   "cell_type": "code",
   "execution_count": 37,
   "metadata": {
    "collapsed": false
   },
   "outputs": [],
   "source": [
    "ccs=cc['Country Code'].values"
   ]
  },
  {
   "cell_type": "code",
   "execution_count": 38,
   "metadata": {
    "collapsed": false
   },
   "outputs": [],
   "source": [
    "neighbors=pd.read_csv(pop_path+'contry-geotime.csv')\n",
    "#https://raw.githubusercontent.com/ppKrauss/country-geotime/master/data/contry-geotime.csv"
   ]
  },
  {
   "cell_type": "code",
   "execution_count": 39,
   "metadata": {
    "collapsed": false
   },
   "outputs": [],
   "source": [
    "#country name converter from iso to comtrade and back\n",
    "iso2c={}\n",
    "isoc2={}\n",
    "for i in cc.T.iteritems():\n",
    "    iso2c[i[1][0]]=i[1][1]\n",
    "    isoc2[i[1][1]]=i[1][0]"
   ]
  },
  {
   "cell_type": "code",
   "execution_count": 40,
   "metadata": {
    "collapsed": false
   },
   "outputs": [],
   "source": [
    "#country name converter from pop to iso\n",
    "pop2iso={}\n",
    "for i in cc.T.iteritems():\n",
    "    pop2iso[cnc(i[1][1])]=int(i[1][0])"
   ]
  },
  {
   "cell_type": "code",
   "execution_count": 41,
   "metadata": {
    "collapsed": false
   },
   "outputs": [],
   "source": [
    "#country name converter from alpha 2 to iso\n",
    "c2iso={}\n",
    "for i in neighbors.T.iteritems():\n",
    "    c2iso[str(i[1][0])]=i[1][1]\n",
    "c2iso['NA']=c2iso['nan'] #adjust for namibia\n",
    "c2iso.pop('nan');"
   ]
  },
  {
   "cell_type": "code",
   "execution_count": 42,
   "metadata": {
    "collapsed": false
   },
   "outputs": [],
   "source": [
    "#create country neighbor adjacency list based on iso country number codes\n",
    "c2neighbors={}\n",
    "for i in neighbors.T.iteritems():\n",
    "    z=str(i[1][4]).split(' ')\n",
    "    if (str(i[1][1])!='nan'): c2neighbors[int(i[1][1])]=[c2iso[k] for k in z if k!='nan']"
   ]
  },
  {
   "cell_type": "code",
   "execution_count": 43,
   "metadata": {
    "collapsed": false
   },
   "outputs": [],
   "source": [
    "#extend iso codes not yet encountered\n",
    "iso2c[729]=\"Sudan\"\n",
    "iso2c[531]=\"Curacao\"\n",
    "iso2c[535]=\"Bonaire, Sint Eustatius and Saba\"\n",
    "iso2c[728]=\"South Sudan\"\n",
    "iso2c[534]=\"Sint Maarten (Dutch part)\"\n",
    "iso2c[652]=\"Saint Barthélemy\""
   ]
  },
  {
   "cell_type": "code",
   "execution_count": 44,
   "metadata": {
    "collapsed": true
   },
   "outputs": [],
   "source": [
    "#load h2 min\n",
    "h2=json.loads(file(pop_path+'h2.json','r').read())"
   ]
  },
  {
   "cell_type": "code",
   "execution_count": 45,
   "metadata": {
    "collapsed": true
   },
   "outputs": [],
   "source": [
    "#load tradealpha d\n",
    "#predata=json.loads(file(pop_path+'/trade/traded.json','r').read())\n",
    "predata=json.loads(file(pop_path+'/trade/smalltrade.json','r').read())\n",
    "tradealpha={}\n",
    "for c in predata:\n",
    "    tradealpha[c]={}\n",
    "    for year in predata[c]:\n",
    "        tradealpha[c][int(year)]=predata[c][year]\n",
    "predata={}"
   ]
  },
  {
   "cell_type": "code",
   "execution_count": 46,
   "metadata": {
    "collapsed": true
   },
   "outputs": [],
   "source": [
    "#load savedata\n",
    "predata=json.loads(file(pop_path+'savedata6.json','r').read())\n",
    "data={}\n",
    "for c in predata:\n",
    "    data[c]={}\n",
    "    for year in predata[c]:\n",
    "        data[c][int(year)]=predata[c][year]\n",
    "predata={}"
   ]
  },
  {
   "cell_type": "code",
   "execution_count": 47,
   "metadata": {
    "collapsed": true
   },
   "outputs": [],
   "source": [
    "#load grids\n",
    "grid=json.loads(file(pop_path+'grid.json','r').read())\n",
    "grid5=json.loads(file(pop_path+'grid5.json','r').read())\n",
    "gridz=json.loads(file(pop_path+'gridz.json','r').read())\n",
    "gridz5=json.loads(file(pop_path+'gridz5.json','r').read())"
   ]
  },
  {
   "cell_type": "code",
   "execution_count": 48,
   "metadata": {
    "collapsed": false,
    "scrolled": true
   },
   "outputs": [],
   "source": [
    "#load ndists\n",
    "ndists=json.loads(file(pop_path+'ndists.json','r').read())\n",
    "distancenorm=7819.98"
   ]
  },
  {
   "cell_type": "code",
   "execution_count": 49,
   "metadata": {
    "collapsed": false
   },
   "outputs": [],
   "source": [
    "#load goodcountries\n",
    "#goodcountries=list(set(data.keys()).intersection(set(tradealpha.keys())))\n",
    "goodcountries=json.loads(file(pop_path+'GC.json','r').read())\n",
    "#goodcountries=goodcountries[:20] #dev\n",
    "rgc={} #reverse goodcountries coder\n",
    "for i in range(len(goodcountries)):\n",
    "    rgc[goodcountries[i]]=i\n",
    "cid={} #reverse goodcountries coder\n",
    "for i in range(len(goodcountries)):\n",
    "    cid[goodcountries[i]]=i"
   ]
  },
  {
   "cell_type": "code",
   "execution_count": 50,
   "metadata": {
    "collapsed": false
   },
   "outputs": [],
   "source": [
    "def save3(sd,countrylist=[]):\n",
    "#if True:\n",
    "    print 'saving... ',sd,\n",
    "    popsave={}\n",
    "    countries=[]\n",
    "    if countrylist==[]:\n",
    "        c=sorted(goodcountries)\n",
    "    else: c=countrylist\n",
    "    for country in c:\n",
    "        popdummy={}\n",
    "        tosave=[]\n",
    "        for year in data[country]:\n",
    "            popdummy[year]=data[country][year]['population']\n",
    "            for fuel in data[country][year]['energy']:\n",
    "            #for fuel in allfuels:\n",
    "                if fuel not in {'nrg','nrg_sum'}:\n",
    "                    tosave.append({\"t\":year,\"u\":fuel,\"g\":\"f\",\"q1\":\"pp\",\"q2\":999,\n",
    "                               \"s\":round(0 if (('navg3' in data[country][year]['energy'][fuel]['prod']) \\\n",
    "                                          and (np.isnan(data[country][year]['energy'][fuel]['prod']['navg3']))) else \\\n",
    "                               data[country][year]['energy'][fuel]['prod']['navg3'] if \\\n",
    "                                   'navg3' in data[country][year]['energy'][fuel]['prod'] else 0,3)\n",
    "                               })\n",
    "                    tosave.append({\"t\":year,\"u\":fuel,\"g\":\"m\",\"q1\":\"cc\",\"q2\":999,\n",
    "                               \"s\":round(0 if (('navg3' in data[country][year]['energy'][fuel]['cons']) \\\n",
    "                                          and (np.isnan(data[country][year]['energy'][fuel]['cons']['navg3']))) else \\\n",
    "                               data[country][year]['energy'][fuel]['cons']['navg3'] if \\\n",
    "                                   'navg3' in data[country][year]['energy'][fuel]['cons'] else 0,3)\n",
    "                              })\n",
    "            \n",
    "            #save balances - only for dev\n",
    "            #if (year > min(balance.keys())):\n",
    "            #    if year in balance:\n",
    "            #        if country in balance[year]:\n",
    "            #            tosave.append({\"t\":year,\"u\":\"balance\",\"g\":\"m\",\"q1\":\"cc\",\"q2\":999,\n",
    "            #                   \"s\":balance[year][country]})\n",
    "        \n",
    "        #no import export flows on global\n",
    "        if country not in {\"World\"}:\n",
    "            flowg={\"Import\":\"f\",\"Export\":\"m\",\"Re-Export\":\"m\",\"Re-Import\":\"f\"}\n",
    "            if country in tradealpha:\n",
    "                for year in tradealpha[country]:\n",
    "                    for fuel in tradealpha[country][year]:\n",
    "                        for flow in tradealpha[country][year][fuel]:\n",
    "                            for partner in tradealpha[country][year][fuel][flow]:\n",
    "                                tosave.append({\"t\":int(float(year)),\"u\":fuel,\"g\":flowg[flow],\"q1\":flow,\"q2\":partner,\n",
    "                                           \"s\":round(tradealpha[country][year][fuel][flow][partner],3)\n",
    "                                           })\n",
    "        \n",
    "        popsave[country]=popdummy\n",
    "        \n",
    "        countries.append(country)\n",
    "        file('../json/'+str(sd)+'/data.json','w').write(json.dumps(tosave)) \n",
    "        zf = zipfile.ZipFile('../json/'+str(sd)+'/'+str(country.encode('utf-8').replace('/','&&'))+'.zip', mode='w')\n",
    "        zf.write('../json/'+str(sd)+'/data.json','data.json',compress_type=compression)\n",
    "        zf.close()\n",
    "        \n",
    "    #save all countries list\n",
    "    file('../json/countries.json','w').write(json.dumps(countries)) \n",
    "    \n",
    "    #save countries populations\n",
    "    #file('E:/Dropbox/Public/datarepo/Set/json/pop.json','w').write(json.dumps(popsave))     \n",
    "    \n",
    "    print ' done'"
   ]
  },
  {
   "cell_type": "markdown",
   "metadata": {},
   "source": [
    "## Impex updating"
   ]
  },
  {
   "cell_type": "code",
   "execution_count": 51,
   "metadata": {
    "collapsed": false
   },
   "outputs": [],
   "source": [
    "def updatenormimpex(reporter,partner,flow,value,weight=0.1):\n",
    "    global nimportmatrix\n",
    "    global nexportmatrix\n",
    "    global nrimportmatrix\n",
    "    global nrexportmatrix\n",
    "    i=cid[reporter]\n",
    "    j=cid[partner]\n",
    "    if flow in {\"Export\",\"Re-Export\"}:\n",
    "        nexportmatrix[i][j]=(nexportmatrix[i][j]*(1-weight))+(value*weight)\n",
    "        nrimportmatrix[j][i]=(nrimportmatrix[j][i]*(1-weight))+(value*weight)\n",
    "    if flow in {\"Import\",\"Re-Import\"}:\n",
    "        nimportmatrix[i][j]=(nrimportmatrix[i][j]*(1-weight))+(value*weight)\n",
    "        nrexportmatrix[j][i]=(nrexportmatrix[j][i]*(1-weight))+(value*weight)\n",
    "    return\n",
    "\n",
    "def influence(reporter,partner,selfinfluence=1.0,expfactor=3.0):\n",
    "    #country trade influence will tend to have an exponential distribution, therefore we convert to linear \n",
    "    #with a strength of expfactor\n",
    "    i=cid[reporter]\n",
    "    j=cid[partner]\n",
    "    if i==j: return selfinfluence\n",
    "    else: return (12.0/36*nimportmatrix[i][j]\\\n",
    "        +6.0/36*nexportmatrix[j][i]\\\n",
    "        +4.0/36*nrimportmatrix[i][j]\\\n",
    "        +2.0/36*nrexportmatrix[j][i]\\\n",
    "        +6.0/36*nexportmatrix[i][j]\\\n",
    "        +3.0/36*nimportmatrix[j][i]\\\n",
    "        +2.0/36*nrexportmatrix[i][j]\\\n",
    "        +1.0/36*nrimportmatrix[j][i])**(1.0/expfactor)\n",
    "\n",
    "def influenceimp(reporter,partner,selfinfluence=1.0,expfactor=3.0):\n",
    "    #country trade influence will tend to have an exponential distribution, therefore we convert to linear \n",
    "    #with a strength of expfactor\n",
    "    i=cid[reporter]\n",
    "    j=cid[partner]\n",
    "    if i==j: return selfinfluence\n",
    "    else: return (18.0/36*nimportmatrix[i][j]\\\n",
    "        +9.0/36*nexportmatrix[j][i]\\\n",
    "        +6.0/36*nrimportmatrix[i][j]\\\n",
    "        +3.0/36*nrexportmatrix[j][i])**(1.0/expfactor)\n",
    "    \n",
    "def influenceexp(reporter,partner,selfinfluence=1.0,expfactor=3.0):\n",
    "    #country trade influence will tend to have an exponential distribution, therefore we convert to linear \n",
    "    #with a strength of expfactor\n",
    "    i=cid[reporter]\n",
    "    j=cid[partner]\n",
    "    if i==j: return selfinfluence\n",
    "    else: return (18.0/36*nexportmatrix[i][j]\\\n",
    "        +9.0/36*nimportmatrix[j][i]\\\n",
    "        +6.0/36*nrexportmatrix[i][j]\\\n",
    "        +3.0/36*nrimportmatrix[j][i])**(1.0/expfactor)"
   ]
  },
  {
   "cell_type": "code",
   "execution_count": 52,
   "metadata": {
    "collapsed": true
   },
   "outputs": [],
   "source": [
    "#load ! careful, need to rebuild index if tradealpha or data changes\n",
    "# NIMPEX OR IMPEX\n",
    "ni='impex'\n",
    "# CAREFUL HERE\n",
    "\n",
    "predata=json.loads(file(pop_path+'trade/'+ni+'.json','r').read())\n",
    "#predata=json.loads(file(pop_path+'trade/nimpex.json','r').read())\n",
    "nexportmatrix=predata[\"nexport\"]\n",
    "nimportmatrix=predata[\"nimport\"]\n",
    "nrexportmatrix=predata[\"nrexport\"]\n",
    "nrimportmatrix=predata[\"nrimport\"]\n",
    "predata={}"
   ]
  },
  {
   "cell_type": "code",
   "execution_count": 53,
   "metadata": {
    "collapsed": false
   },
   "outputs": [],
   "source": [
    "import scipy\n",
    "import pylab\n",
    "import scipy.cluster.hierarchy as sch\n",
    "import matplotlib as mpl\n",
    "import matplotlib.font_manager as font_manager\n",
    "from matplotlib.ticker import NullFormatter\n",
    "path = '../font/Inconsolata-Bold.ttf'\n",
    "prop = font_manager.FontProperties(fname=path)\n",
    "labeler=json.loads(file('../json/labeler.json','r').read())\n",
    "isoico=json.loads(file('../json/isoico.json','r').read())\n",
    "risoico=json.loads(file('../json/risoico.json','r').read())"
   ]
  },
  {
   "cell_type": "code",
   "execution_count": 54,
   "metadata": {
    "collapsed": false
   },
   "outputs": [],
   "source": [
    "def dendro(sd='00',selfinfluence=1.0,expfactor=3.0,inf='n'):\n",
    "    returnmatrix=scipy.zeros([len(goodcountries),len(goodcountries)])\n",
    "    matrix=scipy.zeros([len(goodcountries),len(goodcountries)])\n",
    "    global labs\n",
    "    global labsorder\n",
    "    global labs2\n",
    "    global labs3\n",
    "    labs=[]\n",
    "    labs2=[]\n",
    "    labs3=[]\n",
    "    for i in range(len(goodcountries)):\n",
    "        labs.append(labeler[goodcountries[i]])\n",
    "    labsorder = pd.Series(np.array(labs)) #create labelorder\n",
    "    labsorder=labsorder.rank(method='dense').values.astype(int)-1\n",
    "    alphabetvector=[0 for i in range(len(labsorder))]\n",
    "    for i in range(len(labsorder)):\n",
    "        alphabetvector[labsorder[i]-1]=i\n",
    "    labs=[]\n",
    "    for i in range(len(goodcountries)):\n",
    "        labs.append(labeler[goodcountries[alphabetvector[i]]])\n",
    "        labs2.append(goodcountries[alphabetvector[i]])\n",
    "        labs3.append(isoico[goodcountries[alphabetvector[i]]])\n",
    "        for j in alphabetvector:\n",
    "            if inf=='i':\n",
    "                matrix[i][j]=influenceimp(goodcountries[alphabetvector[i]],goodcountries[alphabetvector[j]],selfinfluence,expfactor)\n",
    "                returnmatrix[i][j]=influenceimp(goodcountries[i],goodcountries[j],selfinfluence,expfactor)\n",
    "            elif inf=='e':\n",
    "                matrix[i][j]=influenceexp(goodcountries[alphabetvector[i]],goodcountries[alphabetvector[j]],selfinfluence,expfactor)\n",
    "                returnmatrix[i][j]=influenceexp(goodcountries[i],goodcountries[j],selfinfluence,expfactor)\n",
    "            else:\n",
    "                matrix[i][j]=influence(goodcountries[alphabetvector[i]],goodcountries[alphabetvector[j]],selfinfluence,expfactor)\n",
    "                returnmatrix[i][j]=influence(goodcountries[i],goodcountries[j],selfinfluence,expfactor)\n",
    "\n",
    "    title=u'Partner Importance of COLUMN Country for ROW Country in Energy Trade [self-influence $q='+\\\n",
    "            str(selfinfluence)+'$, power factor $p='+str(expfactor)+'$]'\n",
    "    #cmap=plt.get_cmap('RdYlGn_r') #for logplot\n",
    "    cmap=plt.get_cmap('YlGnBu')\n",
    "    labelpad=32\n",
    "\n",
    "    # Generate random features and distance matrix.\n",
    "    D = scipy.zeros([len(matrix),len(matrix)])\n",
    "    for i in range(len(matrix)):\n",
    "        for j in range(len(matrix)):\n",
    "            D[i,j] =matrix[i][j]\n",
    "\n",
    "    # Compute and plot first dendrogram.\n",
    "    fig = pylab.figure(figsize=(17,15))\n",
    "    sch.set_link_color_palette(10*[\"#ababab\"])\n",
    "\n",
    "    # Plot original matrix.\n",
    "    axmatrix = fig.add_axes([0.3,0.1,0.6,0.6])\n",
    "    im = axmatrix.matshow(D[::-1], aspect='equal', origin='lower', cmap=cmap)\n",
    "    #im = axmatrix.matshow(E[::-1], aspect='auto', origin='lower', cmap=cmap) #for logplot\n",
    "    axmatrix.set_xticks([])\n",
    "    axmatrix.set_yticks([])\n",
    "\n",
    "    # Plot colorbar.\n",
    "    axcolor = fig.add_axes([0.87,0.1,0.02,0.6])\n",
    "    pylab.colorbar(im, cax=axcolor)\n",
    "\n",
    "    # Label up\n",
    "    axmatrix.set_xticks(range(len(matrix)))\n",
    "    mlabs=list(labs)\n",
    "    for i in range(len(labs)):\n",
    "        kz='-'\n",
    "        for k in range(labelpad-len(labs[i])):kz+='-'\n",
    "        if i%2==1: mlabs[i]=kz+u' '+labs[i]+u' '+'-'\n",
    "        else: mlabs[i]='-'+u' '+labs[i]+u' '+kz\n",
    "    axmatrix.set_xticklabels(mlabs, minor=False,fontsize=7,fontproperties=prop)\n",
    "    axmatrix.xaxis.set_label_position('top')\n",
    "    axmatrix.xaxis.tick_top()\n",
    "    pylab.xticks(rotation=-90, fontsize=8)\n",
    "    axmatrix.set_yticks(range(len(matrix)))\n",
    "    mlabs=list(labs)\n",
    "    for i in range(len(labs)):\n",
    "        kz='-'\n",
    "        for k in range(labelpad-len(labs[i])):kz+='-'\n",
    "        if i%2==0: mlabs[i]=kz+u' '+labs[i]+u' '+'-'\n",
    "        else: mlabs[i]='-'+u' '+labs[i]+u' '+kz\n",
    "    axmatrix.set_yticklabels(mlabs[::-1], minor=False,fontsize=7,fontproperties=prop)\n",
    "    axmatrix.yaxis.set_label_position('left')\n",
    "    axmatrix.yaxis.tick_left()\n",
    "    xlabels = axmatrix.get_xticklabels() \n",
    "    for label in range(len(xlabels)): \n",
    "        xlabels[label].set_rotation(90) \n",
    "    axmatrix.text(1.1, 0.5, title,\n",
    "            horizontalalignment='left',\n",
    "            verticalalignment='center',rotation=270,\n",
    "            transform=axmatrix.transAxes,size=10)\n",
    "    axmatrix.xaxis.grid(False)\n",
    "    axmatrix.yaxis.grid(False)\n",
    "\n",
    "    plt.savefig('../json/'+str(sd)+'/'+inf+'si'+str(selfinfluence)+'expf'+str(expfactor)+'dendrogram.png',dpi=150,bbox_inches = 'tight', pad_inches = 0.1, )\n",
    "    plt.close()\n",
    "    \n",
    "    m1='centroid'\n",
    "    m2='single'\n",
    "    # Compute and plot first dendrogram.\n",
    "    fig = pylab.figure(figsize=(17,15))\n",
    "    ax1 = fig.add_axes([0.1245,0.1,0.1,0.6])\n",
    "    Y = sch.linkage(D, method=m1)\n",
    "    Z1 = sch.dendrogram(Y,above_threshold_color=\"#ababab\", orientation='left')\n",
    "    ax1.set_xticks([])\n",
    "    ax1.set_yticks([])\n",
    "    ax1.set_axis_bgcolor('None')\n",
    "\n",
    "    # Compute and plot second dendrogram.\n",
    "    ax2 = fig.add_axes([0.335,0.825,0.5295,0.1])\n",
    "    Y = sch.linkage(D, method=m2)\n",
    "    Z2 = sch.dendrogram(Y,above_threshold_color=\"#ababab\")\n",
    "    ax2.set_xticks([])\n",
    "    ax2.set_yticks([])\n",
    "    ax2.set_axis_bgcolor('None')\n",
    "\n",
    "    # Plot distance matrix.\n",
    "    axmatrix = fig.add_axes([0.3,0.1,0.6,0.6])\n",
    "    idx1 = Z1['leaves']\n",
    "    idx2 = Z2['leaves']\n",
    "    #D = E[idx1,:] #for logplot\n",
    "    D = D[idx1,:]\n",
    "    D = D[:,idx2]\n",
    "    im = axmatrix.matshow(D, aspect='equal', origin='lower', cmap=cmap)\n",
    "    axmatrix.set_xticks([])\n",
    "    axmatrix.set_yticks([])\n",
    "\n",
    "    # Plot colorbar.\n",
    "    axcolor = fig.add_axes([0.87,0.1,0.02,0.6])\n",
    "    ac=pylab.colorbar(im, cax=axcolor)\n",
    "\n",
    "    # Label up\n",
    "    axmatrix.set_xticks(np.arange(len(matrix))-0)\n",
    "    mlabs=list(np.array(labs)[idx2])\n",
    "    for i in range(len(np.array(labs)[idx2])):\n",
    "        kz='-'\n",
    "        for k in range(labelpad-len(np.array(labs)[idx2][i])):kz+='-'\n",
    "        if i%2==1: mlabs[i]=kz+u' '+np.array(labs)[idx2][i]+u' '+'-'\n",
    "        else: mlabs[i]='-'+u' '+np.array(labs)[idx2][i]+u' '+kz\n",
    "    axmatrix.set_xticklabels(mlabs, minor=False,fontsize=7,fontproperties=prop)\n",
    "    axmatrix.xaxis.set_label_position('top')\n",
    "    axmatrix.xaxis.tick_top()\n",
    "    pylab.xticks(rotation=-90, fontsize=8)\n",
    "    axmatrix.set_yticks(np.arange(len(matrix))+0)\n",
    "    mlabs=list(np.array(labs)[idx1])\n",
    "    for i in range(len(np.array(labs)[idx1])):\n",
    "        kz='-'\n",
    "        for k in range(labelpad-len(np.array(labs)[idx1][i])):kz+='-'\n",
    "        if i%2==0: mlabs[i]=kz+u' '+np.array(labs)[idx1][i]+u' '+'-'\n",
    "        else: mlabs[i]='-'+u' '+np.array(labs)[idx1][i]+u' '+kz\n",
    "    axmatrix.set_yticklabels(mlabs, minor=False,fontsize=7,fontproperties=prop)\n",
    "    axmatrix.yaxis.set_label_position('left')\n",
    "    axmatrix.yaxis.tick_left()\n",
    "    xlabels = axmatrix.get_xticklabels() \n",
    "    for label in xlabels: \n",
    "        label.set_rotation(90) \n",
    "    axmatrix.text(1.11, 0.5, title,\n",
    "            horizontalalignment='left',\n",
    "            verticalalignment='center',rotation=270,\n",
    "            transform=axmatrix.transAxes,size=10)\n",
    "    axmatrix.xaxis.grid(False)\n",
    "    axmatrix.yaxis.grid(False)\n",
    "    plt.savefig('../json/'+str(sd)+'/'+inf+'si'+str(selfinfluence)+'expf'+str(expfactor)+'dendrogram2.png',dpi=150,bbox_inches = 'tight', pad_inches = 0.1, )\n",
    "    plt.close()\n",
    "    \n",
    "    return [returnmatrix,returnmatrix.T]"
   ]
  },
  {
   "cell_type": "markdown",
   "metadata": {},
   "source": [
    "##################################"
   ]
  },
  {
   "cell_type": "code",
   "execution_count": 55,
   "metadata": {
    "collapsed": false
   },
   "outputs": [],
   "source": [
    "#run once\n",
    "#GC=[] #create backup of global country list\n",
    "#for i in goodcountries: GC.append(i)\n",
    "#file(pop_path+'GC.json','w').write(json.dumps(GC)) "
   ]
  },
  {
   "cell_type": "markdown",
   "metadata": {},
   "source": [
    "######################################"
   ]
  },
  {
   "cell_type": "markdown",
   "metadata": {},
   "source": [
    "## Normal"
   ]
  },
  {
   "cell_type": "code",
   "execution_count": 56,
   "metadata": {
    "collapsed": false
   },
   "outputs": [
    {
     "name": "stdout",
     "output_type": "stream",
     "text": [
      "si 5 pf 1\n"
     ]
    }
   ],
   "source": [
    "sd='r1'\n",
    "inf='n'\n",
    "if sd[0]=='q':si=1\n",
    "elif sd[0]=='r':si=5\n",
    "elif sd[0]=='s':si=9\n",
    "basepower=int(sd[1])\n",
    "print 'si',si,'pf',basepower"
   ]
  },
  {
   "cell_type": "code",
   "execution_count": 57,
   "metadata": {
    "collapsed": false
   },
   "outputs": [],
   "source": [
    "[importancematrix,influencematrix]=dendro(sd,si,basepower)\n",
    "z=[np.mean(i) for i in influencematrix] #sum country influence on columns\n",
    "#if you wanted weighted influence, introduce weights (by trade volume i guess) here in the above mean\n",
    "s = pd.Series(1/np.array(z)) #need to 1/ to create inverse order\n",
    "s=s.rank(method='dense').values.astype(int)-1 #start from 0 not one\n",
    "#s is a ranked array on which country ranks where in country influence \n",
    "#we then composed the ordered vector of country influence\n",
    "influencevector=[0 for i in range(len(s))]\n",
    "for i in range(len(s)):\n",
    "    influencevector[s[i]]=i\n",
    "#create mini-world\n",
    "goodcountries2=[goodcountries[i] for i in influencevector[:16]]"
   ]
  },
  {
   "cell_type": "code",
   "execution_count": 58,
   "metadata": {
    "collapsed": false
   },
   "outputs": [
    {
     "data": {
      "image/png": "[encoded data removed]",
      "text/plain": [
       "<matplotlib.figure.Figure at 0x4314128>"
      ]
     },
     "metadata": {},
     "output_type": "display_data"
    }
   ],
   "source": [
    "c=['seaGreen','royalBlue','#dd1c77']\n",
    "levels=[basepower]\n",
    "toplot=[cid[i] for i in goodcountries2]\n",
    "tolabel=[labeler[i] for i in goodcountries2]\n",
    "fig,ax=plt.subplots(1,2,figsize=(12,5))\n",
    "for j in range(len(levels)):\n",
    "    [importancematrix,influencematrix]=dendro(sd,si,levels[j])\n",
    "    z=[np.mean(i) for i in influencematrix] #sum country influence on columns\n",
    "    #if you wanted weighted influence, introduce weights (by trade volume i guess) here in the above mean\n",
    "    s = pd.Series(1/np.array(z)) #need to 1/ to create inverse order\n",
    "    s=s.rank(method='dense').values.astype(int)-1 #start from 0 not one\n",
    "    #s is a ranked array on which country ranks where in country influence \n",
    "    #we then composed the ordered vector of country influence\n",
    "    influencevector=[0 for i in range(len(s))]\n",
    "    for i in range(len(s)):\n",
    "        influencevector[s[i]]=i\n",
    "    zplot=[]\n",
    "    zplot2=[]\n",
    "    for i in toplot:\n",
    "        zplot.append(s[i]+1)\n",
    "        zplot2.append(z[i])\n",
    "    ax[0].scatter(np.array(zplot),np.arange(len(zplot))-0.2+0.2*j,40,color=c[j],label=u'$p='+str(levels[j])+'$')\n",
    "    ax[1].scatter(np.array(zplot2),np.arange(len(zplot))-0.2+0.2*j,40,color=c[j],label=u'$p='+str(levels[j])+'$')\n",
    "    ax[0].set_ylim(-1,len(toplot))\n",
    "    ax[1].set_ylim(-1,len(toplot))\n",
    "    ax[0].set_xlim(0,20)\n",
    "    ax[1].set_xscale('log')\n",
    "    ax[0].set_yticks(range(len(toplot)))\n",
    "    ax[0].set_yticklabels(tolabel)\n",
    "    ax[1].set_yticks(range(len(toplot)))\n",
    "    ax[1].set_yticklabels([])\n",
    "    ax[0].set_xlabel(\"Rank in Country Influence Vector\")\n",
    "    ax[1].set_xlabel(\"Average Country Influence\")\n",
    "    if levels[j]==basepower:\n",
    "        civector={}\n",
    "        for k in range(len(influencevector)):\n",
    "            civector[k+1]={\"inf\":np.round(z[influencevector[k]],2),\"country\":labeler[goodcountries[influencevector[k]]]}\n",
    "        uk=[]\n",
    "        for uj in range(len(influencematrix)):\n",
    "            for ui in range(len(influencematrix[uj])):\n",
    "                if ui!=uj:\n",
    "                    uk.append({'type':'Country influence explorer',\n",
    "                               'country':labeler[goodcountries[uj]],\n",
    "                               'partner':labeler[goodcountries[ui]],\n",
    "                               'inf':influencematrix[uj][ui],\n",
    "                               'imp':importancematrix[uj][ui]})\n",
    "        #pd.DataFrame(civector).T.to_excel('../json/'+sd+'/'+ni+'_'+inf+'_c.xlsx')\n",
    "        #file('../json/'+sd+'/'+ni+'_'+inf+'_uk.json','w').write(json.dumps(uk)) \n",
    "ax[1].legend(loc=1,framealpha=0)\n",
    "plt.subplots_adjust(wspace=0.1)\n",
    "plt.suptitle(\"Power Factor ($p$) Sensitivity of Normalized Country Influence\",fontsize=14)\n",
    "#plt.savefig('../json/'+sd+'/'+ni+'_'+inf+'_powerfactor.png',dpi=150,bbox_inches = 'tight', pad_inches = 0.1, )\n",
    "plt.show()"
   ]
  },
  {
   "cell_type": "markdown",
   "metadata": {},
   "source": [
    "Create energy cost by filling the matrix with the cost of row importing 1TWh from column. neglecting transport energy costs for now, this will be the extraction energy cost. Let us consider only solar for now. Try optimization with all three source, choose one with best objective value. 1TWh tier changes based on granurality."
   ]
  },
  {
   "cell_type": "code",
   "execution_count": 59,
   "metadata": {
    "collapsed": false
   },
   "outputs": [],
   "source": [
    "#weighted resource class calculator\n",
    "def re(dic,total):\n",
    "    if dic!={}:\n",
    "        i=max(dic.keys())\n",
    "        mi=min(dic.keys())\n",
    "        run=True\n",
    "        keys=[]\n",
    "        weights=[]\n",
    "        counter=0\n",
    "        while run:\n",
    "            counter+=1 #safety break\n",
    "            if counter>1000: run=False\n",
    "            if i in dic:\n",
    "                if total<dic[i]:\n",
    "                    keys.append(i)\n",
    "                    weights.append(total)\n",
    "                    run=False\n",
    "                else:\n",
    "                    total-=dic[i]\n",
    "                    keys.append(i)\n",
    "                    weights.append(dic[i])\n",
    "                    i-=1\n",
    "            if i<mi: run=False\n",
    "        if sum(weights)==0: return 0\n",
    "        else: return np.average(keys,weights=weights)\n",
    "    else: return 0"
   ]
  },
  {
   "cell_type": "code",
   "execution_count": 60,
   "metadata": {
    "collapsed": true
   },
   "outputs": [],
   "source": [
    "region=pd.read_excel(pop_path+'regions.xlsx').set_index('Country')"
   ]
  },
  {
   "cell_type": "code",
   "execution_count": 61,
   "metadata": {
    "collapsed": true
   },
   "outputs": [],
   "source": [
    "#load\n",
    "aroei=json.loads(file(pop_path+'aroei.json','r').read())\n",
    "groei=json.loads(file(pop_path+'groei.json','r').read())\n",
    "ndists=json.loads(file(pop_path+'ndists.json','r').read())"
   ]
  },
  {
   "cell_type": "code",
   "execution_count": 62,
   "metadata": {
    "collapsed": false
   },
   "outputs": [],
   "source": [
    "#average resource quality calculator for the globe\n",
    "def update_aroei():\n",
    "    global aroei\n",
    "    aroei={}\n",
    "    groei={}\n",
    "    for c in res:\n",
    "        for r in res[c]:\n",
    "            if r not in groei: groei[r]={}\n",
    "            for cl in res[c][r]['res']:\n",
    "                if cl not in groei[r]: groei[r][cl]=0\n",
    "                groei[r][cl]+=res[c][r]['res'][cl]\n",
    "    for r in groei:\n",
    "        x=[]\n",
    "        y=[]\n",
    "        for i in range(len(sorted(groei[r].keys()))):\n",
    "            x.append(float(sorted(groei[r].keys())[i]))\n",
    "            y.append(float(groei[r][sorted(groei[r].keys())[i]]))\n",
    "        aroei[r]=np.average(x,weights=y)"
   ]
  },
  {
   "cell_type": "code",
   "execution_count": 63,
   "metadata": {
    "collapsed": true
   },
   "outputs": [],
   "source": [
    "#https://www.researchgate.net/publication/299824220_First_Insights_on_the_Role_of_solar_PV_in_a_100_Renewable_Energy_Environment_based_on_hourly_Modeling_for_all_Regions_globally\n",
    "cost=pd.read_excel(pop_path+'/maps/storage.xlsx')"
   ]
  },
  {
   "cell_type": "code",
   "execution_count": 64,
   "metadata": {
    "collapsed": false
   },
   "outputs": [],
   "source": [
    "#1Bdi - grid\n",
    "def normdistance(a,b):\n",
    "    return ndists[cid[a]][cid[b]]\n",
    "def gridtestimator(country,partner,forceptl=False):\n",
    "    #return normdistance(country,partner)\n",
    "    def electricitytrade(country,partner):\n",
    "        scaler=1\n",
    "        gridpartners=grid5['electricity']\n",
    "        #existing trade partners\n",
    "        if ((partner in gridpartners[country]) or (country in gridpartners[partner])): \n",
    "            scaler+=cost.loc[region.loc[country]]['egrid'].values[0]/2.0\n",
    "        #neighbors, but need to build\n",
    "        elif pop2iso[country] in c2neighbors:\n",
    "            if (pop2iso[partner] in c2neighbors[pop2iso[country]]):\n",
    "                scaler+=cost.loc[region.loc[country]]['grid'].values[0]/2.0*normdistance(country,partner)\n",
    "            #not neighbors or partners but in the same region, need to build\n",
    "            elif (region.loc[country][0]==region.loc[partner][0]):\n",
    "                scaler+=cost.loc[region.loc[country]]['grid'].values[0]*3.0/2.0*normdistance(country,partner)\n",
    "            #need to build supergrid, superlative costs\n",
    "            else: \n",
    "                scaler+=cost.loc[region.loc[country]]['grid'].values[0]*10.0/2.0*normdistance(country,partner)\n",
    "        #need to build supergrid, superlative costs\n",
    "        else: \n",
    "                scaler+=cost.loc[region.loc[country]]['grid'].values[0]*10.0/2.0*normdistance(country,partner)\n",
    "        return scaler\n",
    "    \n",
    "    def ptltrade(country,partner):\n",
    "        #ptg costs scale with distance\n",
    "        scaler=1+cost.loc[11]['ptg']*100.0*normdistance(country,partner) \n",
    "        return scaler\n",
    "    \n",
    "    if ptltrade(country,partner)<electricitytrade(country,partner) or forceptl:\n",
    "        return {\"scaler\":ptltrade(country,partner),\"tradeway\":\"ptl\"}\n",
    "    else: return {\"scaler\":electricitytrade(country,partner),\"tradeway\":\"grid\"}"
   ]
  },
  {
   "cell_type": "code",
   "execution_count": 65,
   "metadata": {
    "collapsed": false
   },
   "outputs": [],
   "source": [
    "#1Bdii - storage &curtailment\n",
    "def storagestimator(country):\n",
    "    return cost.loc[region.loc[country]]['min'].values[0]\n",
    "    #curtoversizer\n",
    "def curtestimator(country):\n",
    "    return cost.loc[region.loc[country]]['curt'].values[0]"
   ]
  },
  {
   "cell_type": "code",
   "execution_count": 66,
   "metadata": {
    "collapsed": false
   },
   "outputs": [],
   "source": [
    "#global benchmark eroei, due to state of technology\n",
    "eroei={\n",
    "#'oil':13,\n",
    "#'coal':27,\n",
    "#'gas':14,\n",
    "#'nuclear':10,\n",
    "#'biofuels':1.5,\n",
    "#'hydro':84,\n",
    "#'geo_other':22,\n",
    "'pv':13.74,#17.6,\n",
    "'csp':7.31,#10.2,\n",
    "'wind':11.17,#20.2 #24\n",
    "}\n",
    "eroei={\n",
    "'pv':14,#17.6,\n",
    "'csp':9,#10.2,\n",
    "'wind':14,#20.2 #24\n",
    "}\n",
    "#without esoei\n",
    "#calibrated from global, from Table S1 in ERL paper"
   ]
  },
  {
   "cell_type": "markdown",
   "metadata": {},
   "source": [
    "# ALLINONE"
   ]
  },
  {
   "cell_type": "code",
   "execution_count": 67,
   "metadata": {
    "collapsed": false
   },
   "outputs": [],
   "source": [
    "#initialize renewable totals for learning\n",
    "total2014={'csp':0,'solar':0,'wind':0}\n",
    "learning={'csp':0.04,'solar':0.04,'wind':0.02}\n",
    "year=2014\n",
    "for fuel in total2014:\n",
    "    total2014[fuel]=np.nansum([np.nansum(data[partner][year]['energy'][fuel]['cons']['navg3'])\\\n",
    "                           for partner in goodcountries if fuel in data[partner][year]['energy']])"
   ]
  },
  {
   "cell_type": "code",
   "execution_count": 68,
   "metadata": {
    "collapsed": false
   },
   "outputs": [
    {
     "data": {
      "text/plain": [
       "{'csp': 10.149336, 'solar': 175.21729730219911, 'wind': 708.69708299090462}"
      ]
     },
     "execution_count": 68,
     "metadata": {},
     "output_type": "execute_result"
    }
   ],
   "source": [
    "total2014"
   ]
  },
  {
   "cell_type": "code",
   "execution_count": 69,
   "metadata": {
    "collapsed": false
   },
   "outputs": [
    {
     "name": "stdout",
     "output_type": "stream",
     "text": [
      "scenario r1 loaded resources demand tradedata impex data\n"
     ]
    }
   ],
   "source": [
    "#scenario id (folder id) \n",
    "#first is scenario family, then do 4 variations of scenarios (2 selfinluence, 2 power factor) as 01, 02...\n",
    "\n",
    "#import resources\n",
    "\n",
    "###################################\n",
    "###################################\n",
    "#load resources\n",
    "#predata=json.loads(file(pop_path+'maps/newres.json','r').read())\n",
    "predata=json.loads(file(pop_path+'maps/res.json','r').read())\n",
    "res={}\n",
    "for c in predata:\n",
    "    res[c]={}\n",
    "    for f in predata[c]:\n",
    "        res[c][f]={}\n",
    "        for r in predata[c][f]:\n",
    "            res[c][f][r]={}\n",
    "            for year in predata[c][f][r]:\n",
    "                res[c][f][r][int(year)]=predata[c][f][r][year]\n",
    "predata={}\n",
    "print 'scenario',sd,'loaded resources',\n",
    "###################################\n",
    "###################################\n",
    "#load demand2\n",
    "predata=json.loads(file(pop_path+'demand2.json','r').read())\n",
    "demand2={}\n",
    "for c in predata:\n",
    "    demand2[c]={}\n",
    "    for year in predata[c]:\n",
    "        demand2[c][int(year)]=predata[c][year]\n",
    "predata={}\n",
    "print 'demand',\n",
    "###################################\n",
    "###################################\n",
    "#load tradealpha d\n",
    "#predata=json.loads(file(pop_path+'/trade/traded.json','r').read())\n",
    "predata=json.loads(file(pop_path+'/trade/smalltrade.json','r').read())\n",
    "tradealpha={}\n",
    "for c in predata:\n",
    "    tradealpha[c]={}\n",
    "    for year in predata[c]:\n",
    "        tradealpha[c][int(year)]=predata[c][year]\n",
    "predata={}\n",
    "print 'tradedata',\n",
    "###################################\n",
    "###################################\n",
    "#reload impex and normalize\n",
    "predata=json.loads(file(pop_path+'trade/nimpex.json','r').read())\n",
    "nexportmatrix=predata[\"nexport\"]\n",
    "nimportmatrix=predata[\"nimport\"]\n",
    "nrexportmatrix=predata[\"nrexport\"]\n",
    "nrimportmatrix=predata[\"nrimport\"]\n",
    "predata={}\n",
    "print 'impex',\n",
    "###################################\n",
    "###################################\n",
    "#load latest savedata\n",
    "#we dont change the data for now, everything is handled through trade\n",
    "predata=json.loads(file(pop_path+'savedata6.json','r').read())\n",
    "data={}\n",
    "for c in predata:\n",
    "    data[c]={}\n",
    "    for year in predata[c]:\n",
    "        data[c][int(year)]=predata[c][year]\n",
    "predata={}\n",
    "print 'data'\n",
    "###################################\n",
    "###################################"
   ]
  },
  {
   "cell_type": "code",
   "execution_count": 70,
   "metadata": {
    "collapsed": false
   },
   "outputs": [],
   "source": [
    "#reset balance\n",
    "ybalance={}\n",
    "#recalculate balances\n",
    "for year in range(2015,2101):\n",
    "    balance={}\n",
    "    if year not in ybalance:ybalance[year]={}\n",
    "    for c in goodcountries:\n",
    "        balance[c]=0\n",
    "        if c in tradealpha:\n",
    "            f1=0\n",
    "            for fuel in tradealpha[c][year]:\n",
    "                if 'Import' in tradealpha[c][year][fuel]: \n",
    "                    f1=np.nansum([f1,sum(tradealpha[c][year][fuel]['Import'].values())])\n",
    "                if 'Re-Import' in tradealpha[c][year][fuel]: \n",
    "                    f1=np.nansum([f1,sum(tradealpha[c][year][fuel]['Re-Import'].values())])\n",
    "                if 'Export' in tradealpha[c][year][fuel]: \n",
    "                    f1=np.nansum([f1,-sum(tradealpha[c][year][fuel]['Export'].values())])\n",
    "                if 'Re-Export' in tradealpha[c][year][fuel]: \n",
    "                    f1=np.nansum([f1,-sum(tradealpha[c][year][fuel]['Re-Export'].values())])\n",
    "                if fuel in data[c][year]['energy']:\n",
    "                    f1=np.nansum([f1,data[c][year]['energy'][fuel]['prod']['navg3']])\n",
    "            balance[c]-=f1\n",
    "        balance[c]+=demand2[c][year]*8760*1e-12\n",
    "        if 'balance' not in data[c][year]['energy']:\n",
    "            data[c][year]['energy']['balance']={'prod':{'navg3':0},'cons':{'navg3':0}}\n",
    "        data[c][year]['energy']['balance']['prod']['navg3']=max(0,balance[c])#balance can't be negative\n",
    "        data[c][year]['energy']['balance']['cons']['navg3']=max(0,balance[c])\n",
    "    ybalance[year]=balance\n",
    "#save3('0a') #save default"
   ]
  },
  {
   "cell_type": "code",
   "execution_count": 71,
   "metadata": {
    "collapsed": false
   },
   "outputs": [],
   "source": [
    "def cbalance(year,c):\n",
    "    balance=0\n",
    "    if c in tradealpha:\n",
    "        f1=0\n",
    "        for fuel in tradealpha[c][year]:\n",
    "            if 'Import' in tradealpha[c][year][fuel]: \n",
    "                f1=np.nansum([f1,sum(tradealpha[c][year][fuel]['Import'].values())])\n",
    "            if 'Re-Import' in tradealpha[c][year][fuel]: \n",
    "                f1=np.nansum([f1,sum(tradealpha[c][year][fuel]['Re-Import'].values())])\n",
    "            if 'Export' in tradealpha[c][year][fuel]: \n",
    "                f1=np.nansum([f1,-sum(tradealpha[c][year][fuel]['Export'].values())])\n",
    "            if 'Re-Export' in tradealpha[c][year][fuel]: \n",
    "                f1=np.nansum([f1,-sum(tradealpha[c][year][fuel]['Re-Export'].values())])\n",
    "            if '_' in fuel:\n",
    "                fuel=fuel[fuel.find('_')+1:]\n",
    "            #if fuel in data[c][year]['energy']:\n",
    "            #    f1=np.nansum([f1,data[c][year]['energy'][fuel]['prod']['navg3']])\n",
    "        for fuel in data[c][year]['energy']:\n",
    "            if fuel not in {\"nrg_sum\",\"nrg\"}:\n",
    "                f1=np.nansum([f1,data[c][year]['energy'][fuel]['prod']['navg3']])\n",
    "        balance-=f1\n",
    "    balance+=demand2[c][year]*8760*1e-12\n",
    "    return balance"
   ]
  },
  {
   "cell_type": "code",
   "execution_count": 72,
   "metadata": {
    "collapsed": false
   },
   "outputs": [],
   "source": [
    "def res_adv(country,fuel): #this country's wavg resource compared to global\n",
    "    x=[]\n",
    "    y=[]    \n",
    "    if fuel=='solar':fuel='pv'\n",
    "    d=groei[fuel] #global wavg resource class \n",
    "    for i in range(len(sorted(d.keys()))):\n",
    "        if float(d[sorted(d.keys())[i]])>0.1:\n",
    "            x.append(float(sorted(d.keys())[i]))\n",
    "            y.append(float(d[sorted(d.keys())[i]]))\n",
    "    x2=[]\n",
    "    y2=[]   \n",
    "    if country not in res: return 0\n",
    "    d2=res[country][fuel]['res'] #country's wavg resource class\n",
    "    for i in range(len(sorted(d2.keys()))):\n",
    "        if float(d2[sorted(d2.keys())[i]])>0.1:\n",
    "            x2.append(float(sorted(d2.keys())[i]))\n",
    "            y2.append(float(d2[sorted(d2.keys())[i]]))\n",
    "            \n",
    "    if y2!=[]: return np.average(x2,weights=y2)*1.0/np.average(x,weights=y)\n",
    "    else: return 0"
   ]
  },
  {
   "cell_type": "code",
   "execution_count": 73,
   "metadata": {
    "collapsed": false
   },
   "outputs": [],
   "source": [
    "def costvectorranker(cv):\n",
    "    k={}\n",
    "    for i in cv:\n",
    "        for j in cv[i]:\n",
    "            k[(i)+'_'+str(j)]=cv[i][j]\n",
    "    return sorted(k.items(), key=lambda value: value[1])"
   ]
  },
  {
   "cell_type": "code",
   "execution_count": 74,
   "metadata": {
    "collapsed": false
   },
   "outputs": [],
   "source": [
    "def trade(country,partner,y0,fuel,value,l0):\n",
    "    lifetime=l0+int(random.random()*l0)\n",
    "    tradeable[partner][fuel]-=value \n",
    "    key=tradeway[country][partner]+'_'+fuel\n",
    "    for year in range(y0,min(2101,y0+lifetime)):\n",
    "        #add production\n",
    "        if fuel not in data[partner][year]['energy']:\n",
    "            data[partner][year]['energy'][fuel]={'prod':{'navg3':0},'cons':{'navg3':0}}\n",
    "        data[partner][year]['energy'][fuel]['prod']['navg3']+=value\n",
    "        data[partner][year]['energy']['nrg_sum']['prod']['navg3']+=value\n",
    "        #add consumption\n",
    "        if fuel not in data[country][year]['energy']:\n",
    "            data[country][year]['energy'][fuel]={'prod':{'navg3':0},'cons':{'navg3':0}}\n",
    "        data[country][year]['energy'][fuel]['cons']['navg3']+=value\n",
    "        data[country][year]['energy']['nrg_sum']['cons']['navg3']+=value\n",
    "        #add storage on country side (if not ptl)\n",
    "        if tradeway[country][partner]=='grid':\n",
    "            if fuel not in {'csp'}:\n",
    "                if 'storage' not in data[country][year]['energy']:\n",
    "                    data[country][year]['energy']['storage']={'prod':{'navg3':0},'cons':{'navg3':0}}\n",
    "                data[country][year]['energy']['storage']['prod']['navg3']+=value*storagestimator(country)\n",
    "                data[country][year]['energy']['storage']['cons']['navg3']+=value*storagestimator(country)\n",
    "        if country!=partner:\n",
    "            #add import flow\n",
    "            if key not in tradealpha[country][year]:tradealpha[country][year][key]={}\n",
    "            if 'Import' not in tradealpha[country][year][key]:tradealpha[country][year][key][\"Import\"]={}\n",
    "            if str(pop2iso[partner]) not in tradealpha[country][year][key][\"Import\"]:\n",
    "                tradealpha[country][year][key][\"Import\"][str(pop2iso[partner])]=0\n",
    "            tradealpha[country][year][key][\"Import\"][str(pop2iso[partner])]+=value\n",
    "            #add export flow\n",
    "            if key not in tradealpha[partner][year]:tradealpha[partner][year][key]={}\n",
    "            if 'Export' not in tradealpha[partner][year][key]:tradealpha[partner][year][key][\"Export\"]={}\n",
    "            if str(pop2iso[country]) not in tradealpha[partner][year][key][\"Export\"]:\n",
    "                tradealpha[partner][year][key][\"Export\"][str(pop2iso[country])]=0\n",
    "            tradealpha[partner][year][key][\"Export\"][str(pop2iso[country])]+=value"
   ]
  },
  {
   "cell_type": "code",
   "execution_count": 75,
   "metadata": {
    "collapsed": true
   },
   "outputs": [],
   "source": [
    "#trade diversificatioin necessity\n",
    "def divfill(cv,divfactor,divbalance):\n",
    "    scaler=min(1.0,divbalance/\\\n",
    "            sum([tradeable[cv[i][0][:cv[i][0].find('_')]]\\\n",
    "                 [cv[i][0][cv[i][0].find('_')+1:]] for i in range(divfactor)])) #take all or partial\n",
    "    for i in range(divfactor):\n",
    "        partner=cv[i][0][:cv[i][0].find('_')]\n",
    "        fuel=cv[i][0][cv[i][0].find('_')+1:]\n",
    "        trade(country,partner,year,fuel,max(0,tradeable[partner][fuel])*scaler,lifetime)"
   ]
  },
  {
   "cell_type": "code",
   "execution_count": 76,
   "metadata": {
    "collapsed": true
   },
   "outputs": [],
   "source": [
    "def tradefill(cv):\n",
    "    totrade=[]\n",
    "    tradesum=0\n",
    "    #\n",
    "    #for i in range(len(cv)):\n",
    "    #ASSYMETRIC TRADE PARTNER PICKING OUT OF TOP 5\n",
    "    k=[kk for kk in cv]\n",
    "    for ii in range(len(cv)):\n",
    "        z=min(len(k)-1,int(np.random.exponential(100)/100.0))\n",
    "        i=k[z]\n",
    "        k=k[:z]+k[z+1:]\n",
    "        ####SAME FROM HERE\n",
    "        partner=i[0][:i[0].find('_')]\n",
    "        fuel=i[0][i[0].find('_')+1:]\n",
    "        if tradeable[partner][fuel]>balance-tradesum:\n",
    "            totrade.append((i[0],balance-tradesum))\n",
    "            tradesum+=balance-tradesum\n",
    "            break\n",
    "        else:\n",
    "            totrade.append((i[0],tradeable[partner][fuel]))\n",
    "            tradesum+=tradeable[partner][fuel]\n",
    "            \n",
    "    for i in totrade:\n",
    "        partner=i[0][:i[0].find('_')]\n",
    "        fuel=i[0][i[0].find('_')+1:]\n",
    "        trade(country,partner,year,fuel,i[1],lifetime)"
   ]
  },
  {
   "cell_type": "code",
   "execution_count": 77,
   "metadata": {
    "collapsed": true
   },
   "outputs": [],
   "source": [
    "def omegafill(cv):\n",
    "    global wasalready\n",
    "    totrade=[]\n",
    "    tradesum=0\n",
    "    for i in range(len(cv)):\n",
    "        partner=cv[i][0][:cv[i][0].find('_')]\n",
    "        fuel=cv[i][0][cv[i][0].find('_')+1:]\n",
    "        if country==partner:\n",
    "            if fuel not in wasalready:\n",
    "                wasalready.add(fuel)\n",
    "                if tradeable[partner][fuel]>balance-tradesum:\n",
    "                    totrade.append((cv[i][0],balance-tradesum))\n",
    "                    tradesum+=balance-tradesum\n",
    "                    break\n",
    "                else:\n",
    "                    totrade.append((cv[i][0],tradeable[partner][fuel]))\n",
    "                    tradesum+=tradeable[partner][fuel]\n",
    "                #trade(country,partner,year,fuel,min(cv[i][1],tradeable[partner][fuel]),lifetime)\n",
    "    for i in totrade:\n",
    "        partner=i[0][:i[0].find('_')]\n",
    "        fuel=i[0][i[0].find('_')+1:]\n",
    "        trade(country,partner,year,fuel,i[1],lifetime)"
   ]
  },
  {
   "cell_type": "code",
   "execution_count": 78,
   "metadata": {
    "collapsed": true
   },
   "outputs": [],
   "source": [
    "def nrgsum(country,year):\n",
    "    return np.nansum([data[country][year]['energy'][i]['prod']['navg3'] for i in data[country][year]['energy'] if i not in ['nrg_sum','sum','nrg']])"
   ]
  },
  {
   "cell_type": "code",
   "execution_count": 79,
   "metadata": {
    "collapsed": false
   },
   "outputs": [],
   "source": [
    "def liquidcheck(year,country):\n",
    "    oil=data[country][year]['energy']['oil']['prod']['navg3']\n",
    "    gas=data[country][year]['energy']['gas']['prod']['navg3']\n",
    "    try: ptl=sum([sum(tradealpha[country][year][i]['Import'].values()) for i in tradealpha[country][year] if 'ptl' in i])\n",
    "    except: ptl=0\n",
    "    liquidshare=(oil+gas+ptl)/nrgsum(country,year)\n",
    "    return max(0,(h2[country]-liquidshare)*nrgsum(country,year)) #return amount to fill with liquids\n",
    "\n",
    "def liquidfill(country,year):\n",
    "    toadjust=0\n",
    "    tofill=liquidcheck(year,country)\n",
    "    adjustable={}\n",
    "    if tofill>0:\n",
    "        for fuel in data[country][year]['energy']:\n",
    "            if fuel not in {\"nrg\",\"nrg_sum\",\"storage\",\"oil\",\"gas\"}:\n",
    "                if data[country][year]['energy'][fuel]['prod']['navg3']>0:\n",
    "                    if not np.isnan(data[country][year]['energy'][fuel]['prod']['navg3']):\n",
    "                        toadjust+=data[country][year]['energy'][fuel]['prod']['navg3']\n",
    "        for fuel in tradealpha[country][year]:\n",
    "            if fuel not in {\"coal\",\"oil\",\"gas\"}:\n",
    "                if 'ptl' not in fuel:\n",
    "                    if 'Import' in tradealpha[country][year][fuel]:\n",
    "                        toadjust+=np.nansum(tradealpha[country][year][fuel][\"Import\"].values())\n",
    "        #scan fuels to adjust, calculate adjust scaler\n",
    "        adjustscaler=1.0-tofill*1.0/toadjust\n",
    "        \n",
    "        #scale down fuels, record what to put back as ptl\n",
    "        for fuel in data[country][year]['energy']:\n",
    "            if fuel not in {\"nrg\",\"nrg_sum\",\"storage\",\"oil\",\"gas\"}:\n",
    "                if data[country][year]['energy'][fuel]['prod']['navg3']>0:\n",
    "                    if not np.isnan(data[country][year]['energy'][fuel]['prod']['navg3']):\n",
    "                        data[country][year]['energy'][fuel]['prod']['navg3']*=adjustscaler\n",
    "                        if fuel not in adjustable: adjustable[fuel]={}\n",
    "                        adjustable[fuel][pop2iso[country]]=data[country][year]['energy'][fuel]['prod']['navg3']*(1-adjustscaler)\n",
    "        for fuel in tradealpha[country][year]:\n",
    "            if fuel not in {\"coal\",\"oil\",\"gas\"}:\n",
    "                if 'ptl' not in fuel:\n",
    "                    if 'Import' in tradealpha[country][year][fuel]:\n",
    "                        for p in tradealpha[country][year][fuel][\"Import\"]:\n",
    "                            tradealpha[country][year][fuel][\"Import\"][p]*=adjustscaler\n",
    "                            if fuel[fuel.find('_')+1:] not in adjustable: adjustable[fuel[fuel.find('_')+1:]]={}\n",
    "                            adjustable[fuel[fuel.find('_')+1:]][p]=tradealpha[country][year][fuel][\"Import\"][p]*(1-adjustscaler)\n",
    "\n",
    "    #put back ptl\n",
    "    for fuel in adjustable:\n",
    "        for p in adjustable[fuel]:\n",
    "            if 'ptl_'+str(fuel) not in tradealpha[country][year]:\n",
    "                tradealpha[country][year]['ptl_'+str(fuel)]={}\n",
    "            if 'Import' not in tradealpha[country][year]['ptl_'+str(fuel)]:\n",
    "                tradealpha[country][year]['ptl_'+str(fuel)][\"Import\"]={}\n",
    "            tradealpha[country][year]['ptl_'+str(fuel)][\"Import\"][p]=adjustable[fuel][p]                "
   ]
  },
  {
   "cell_type": "code",
   "execution_count": 80,
   "metadata": {
    "collapsed": false
   },
   "outputs": [
    {
     "name": "stdout",
     "output_type": "stream",
     "text": [
      "scenario r1 loaded resources demand tradedata impex data\n"
     ]
    }
   ],
   "source": [
    "#scenario id (folder id) \n",
    "#first is scenario family, then do 4 variations of scenarios (2 selfinluence, 2 power factor) as 01, 02...\n",
    "\n",
    "#import resources\n",
    "\n",
    "###################################\n",
    "###################################\n",
    "#load resources\n",
    "#predata=json.loads(file(pop_path+'maps/newres.json','r').read())\n",
    "predata=json.loads(file(pop_path+'maps/res.json','r').read())\n",
    "res={}\n",
    "for c in predata:\n",
    "    res[c]={}\n",
    "    for f in predata[c]:\n",
    "        res[c][f]={}\n",
    "        for r in predata[c][f]:\n",
    "            res[c][f][r]={}\n",
    "            for year in predata[c][f][r]:\n",
    "                res[c][f][r][int(year)]=predata[c][f][r][year]\n",
    "predata={}\n",
    "print 'scenario',sd,'loaded resources',\n",
    "###################################\n",
    "###################################\n",
    "#load demand2\n",
    "predata=json.loads(file(pop_path+'demand2.json','r').read())\n",
    "demand2={}\n",
    "for c in predata:\n",
    "    demand2[c]={}\n",
    "    for year in predata[c]:\n",
    "        demand2[c][int(year)]=predata[c][year]\n",
    "predata={}\n",
    "print 'demand',\n",
    "###################################\n",
    "###################################\n",
    "#load tradealpha d\n",
    "#predata=json.loads(file(pop_path+'/trade/traded.json','r').read())\n",
    "predata=json.loads(file(pop_path+'/trade/smalltrade.json','r').read())\n",
    "tradealpha={}\n",
    "for c in predata:\n",
    "    tradealpha[c]={}\n",
    "    for year in predata[c]:\n",
    "        tradealpha[c][int(year)]=predata[c][year]\n",
    "predata={}\n",
    "print 'tradedata',\n",
    "###################################\n",
    "###################################\n",
    "#reload impex and normalize\n",
    "predata=json.loads(file(pop_path+'trade/'+ni+'.json','r').read())\n",
    "nexportmatrix=predata[\"nexport\"]\n",
    "nimportmatrix=predata[\"nimport\"]\n",
    "nrexportmatrix=predata[\"nrexport\"]\n",
    "nrimportmatrix=predata[\"nrimport\"]\n",
    "predata={}\n",
    "print ni,\n",
    "###################################\n",
    "###################################\n",
    "#load latest savedata\n",
    "#we dont change the data for now, everything is handled through trade\n",
    "predata=json.loads(file(pop_path+'savedata6.json','r').read())\n",
    "data={}\n",
    "for c in predata:\n",
    "    data[c]={}\n",
    "    for year in predata[c]:\n",
    "        data[c][int(year)]=predata[c][year]\n",
    "predata={}\n",
    "print 'data'\n",
    "###################################\n",
    "###################################"
   ]
  },
  {
   "cell_type": "code",
   "execution_count": 81,
   "metadata": {
    "collapsed": false
   },
   "outputs": [],
   "source": [
    "[importancematrix,influencematrix]=dendro(sd,si,basepower) #2,5, or 4,3\n",
    "z=[np.mean(i) for i in influencematrix] #sum country influence on columns\n",
    "#if you wanted weighted influence, introduce weights (by trade volume i guess) here in the above mean\n",
    "s = pd.Series(1/np.array(z)) #need to 1/ to create inverse order\n",
    "s=s.rank(method='dense').values.astype(int)-1 #start from 0 not one\n",
    "#s is a ranked array on which country ranks where in country influence \n",
    "#we then composed the ordered vector of country influence\n",
    "influencevector=[0 for i in range(len(s))]\n",
    "for i in range(len(s)):\n",
    "    influencevector[s[i]]=i"
   ]
  },
  {
   "cell_type": "code",
   "execution_count": null,
   "metadata": {
    "collapsed": true
   },
   "outputs": [],
   "source": [
    "CV={}\n",
    "CV2={}\n",
    "TB={}"
   ]
  },
  {
   "cell_type": "code",
   "execution_count": null,
   "metadata": {
    "collapsed": false
   },
   "outputs": [],
   "source": [
    "fc={\"solar\":'pv',\"csp\":'csp',\"wind\":'wind'}\n",
    "divfactor=10 #min trade partners in trade diversification\n",
    "divshare=0.2 #min share of the trade diversification, total\n",
    "tradeway={}\n",
    "lifetime=20 #base lifetime\n",
    "maxrut=0.01 #for each type #max rampup total, if zero 5% of 1% 0.05 / 0.001\n",
    "maxrur=1.5 #growth rate for each techno #max rampup rate 0.5\n",
    "omegamin=0.1 #min share of the in-country diversification, per fuel\n",
    "random.seed(2)\n",
    "cs=set()\n",
    "\n",
    "for year in range(2025,2101):\n",
    "    tradeable={}\n",
    "    if year not in TB:TB[year]={}\n",
    "    for i in range(len(goodcountries)):\n",
    "        country=goodcountries[i]\n",
    "        if country not in tradeable:tradeable[country]={'solar':0,'csp':0,'wind':0}\n",
    "        for fuel in {\"solar\",\"csp\",\"wind\"}:\n",
    "            if fuel not in data[country][year-1]['energy']:\n",
    "                tradeable[country][fuel]=nrgsum(country,year-1)*maxrut\n",
    "            elif data[country][year-1]['energy'][fuel]['prod']['navg3']==0:\n",
    "                tradeable[country][fuel]=nrgsum(country,year-1)*maxrut\n",
    "            else: tradeable[country][fuel]=max(nrgsum(country,year-1)*maxrut,\n",
    "                                               data[country][year-1]['energy'][fuel]['prod']['navg3']*maxrur)\n",
    "    for i in range(len(influencevector))[:]:#4344  \n",
    "        country=goodcountries[influencevector[i]]\n",
    "        cs.add(country)\n",
    "        #if year==2015:\n",
    "        if True:\n",
    "            costvector={}\n",
    "            for j in range(len(goodcountries)):\n",
    "                partner=goodcountries[j]\n",
    "                if partner not in costvector:costvector[partner]={}\n",
    "                transactioncost=gridtestimator(country,partner)\n",
    "                if country not in tradeway:tradeway[country]={}\n",
    "                if partner not in tradeway[country]:tradeway[country][partner]=transactioncost[\"tradeway\"]\n",
    "                for fuel in {\"solar\",\"csp\",\"wind\"}:\n",
    "                    ru0=0\n",
    "                    if fuel not in data[partner][year]['energy']: ru = ru0\n",
    "                    elif partner not in res: ru = ru0\n",
    "                    elif sum(res[partner][fc[fuel]]['res'].values())==0: ru=1\n",
    "                    elif data[partner][year]['energy'][fuel]['prod']['navg3']==0: ru=ru0\n",
    "                    else: ru=data[partner][year]['energy'][fuel]['prod']['navg3']*1.0/\\\n",
    "                                        sum(res[partner][fc[fuel]]['res'].values())\n",
    "                    ru=max(ru,0)\n",
    "                    ru=max(1,0.3+ru**0.1) #or 0.3\n",
    "                    costvector[partner][fuel]=1.0/influencematrix[influencevector[i]][j]*\\\n",
    "                                        transactioncost['scaler']*\\\n",
    "                                        ru*\\\n",
    "                                        1.0/(eroei[fc[fuel]]*1.0/np.mean(eroei.values())*\\\n",
    "                                             res_adv(partner,fuel)*\\\n",
    "                                             aroei[fc[fuel]]*1.0/np.mean(aroei.values()))\n",
    "            cv=costvectorranker(costvector)\n",
    "        #fulfill trade diversification criterion\n",
    "        balance=divshare*cbalance(year,country)\n",
    "        if balance>0:\n",
    "            divfill(cv,divfactor,balance)\n",
    "        #fulfill in-country diversification criterion\n",
    "        wasalready=set()\n",
    "        balance=cbalance(year,country)*omegamin\n",
    "        if balance>0:\n",
    "            omegafill(cv) #fill first best source to min share\n",
    "            omegafill(cv) #fill second best source to min share\n",
    "        #fill up rest of trade\n",
    "        balance=cbalance(year,country)\n",
    "        if balance>0:\n",
    "            tradefill(cv)\n",
    "        #fill liquids up to min liquid level\n",
    "        liquidfill(country,year)\n",
    "        print i,\n",
    "        #CV2[country]=cv\n",
    "    print year\n",
    "save3(sd,cs)"
   ]
  },
  {
   "cell_type": "code",
   "execution_count": null,
   "metadata": {
    "collapsed": false
   },
   "outputs": [],
   "source": [
    "file('E:/Dropbox/Public/datarepo/netset/savedata/'+sd+'data.json','w').write(json.dumps(data)) \n",
    "file('E:/Dropbox/Public/datarepo/netset/savedata/'+sd+'trade.json','w').write(json.dumps(tradealpha)) "
   ]
  }
 ],
 "metadata": {
  "anaconda-cloud": {},
  "kernelspec": {
   "display_name": "Python [default]",
   "language": "python",
   "name": "python2"
  },
  "language_info": {
   "codemirror_mode": {
    "name": "ipython",
    "version": 2
   },
   "file_extension": ".py",
   "mimetype": "text/x-python",
   "name": "python",
   "nbconvert_exporter": "python",
   "pygments_lexer": "ipython2",
   "version": "2.7.12"
  }
 },
 "nbformat": 4,
 "nbformat_minor": 0
}
