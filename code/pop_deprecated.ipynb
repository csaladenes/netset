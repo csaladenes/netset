{
 "cells": [
  {
   "cell_type": "markdown",
   "metadata": {},
   "source": [
    "population"
   ]
  },
  {
   "cell_type": "code",
   "execution_count": 4,
   "metadata": {
    "collapsed": false
   },
   "outputs": [],
   "source": [
    "#Routines for scraping and downloading data from http://esa.un.org/unpd/wpp/unpp/panel_indicators.htm\n",
    "#Source: http://schoolofdata.org/2014/09/12/easy-access-to-world-bank-and-un-development-data-from-ipython-notebooks/\n",
    "\n",
    "import requests\n",
    "from bs4 import BeautifulSoup\n",
    "\n",
    "from io import StringIO\n",
    "import pandas as pd\n",
    "\n",
    "def getFormSelectVals(soup,name):\n",
    "    #Parse out options from an HTML select list\n",
    "    \n",
    "    tmp={}\n",
    "    items=soup.find('select',{'name':name})\n",
    "    for o in items.findAll('option'):\n",
    "        #print(o.attrs['value'],o.text.strip())\n",
    "        tmp[o.text.strip()]=o.attrs['value']\n",
    "    return tmp\n",
    "\n",
    "\n",
    "def getUNPopDivIndicators():\n",
    "    #Grab the UN Population Division indicators page and parse out form values\n",
    "    \n",
    "    url='http://esa.un.org/unpd/wpp/unpp/panel_indicators.htm'\n",
    "    page = requests.get(url)\n",
    "    \n",
    "    soup=BeautifulSoup(page.content, \"lxml\")\n",
    "    \n",
    "    unpop={}\n",
    "    unpop['vars']=getFormSelectVals(soup,'Variable')\n",
    "    unpop['countries']=getFormSelectVals(soup,'Location')\n",
    "    unpop['variants']=getFormSelectVals(soup,'Varient')\n",
    "      \n",
    "    return unpop\n",
    "\n",
    "def getUNPopDivData(dfi,country,indicator,variant='Medium variant',startyear=1950,endyear=2100):\n",
    "    #Download selected data from the UN Population Division indicators page and return it as a pandas dataframe\n",
    "    \n",
    "    if not isinstance(country,list): country= [country] \n",
    "    if not isinstance(indicator,list): indicator= [indicator]\n",
    "    \n",
    "    #Limited to five options - use the first 5\n",
    "    #For each item, look up the name from the scraped form elements and find what code number to use.\n",
    "    locations= [dfi['countries'][x] for x in country[:5]]\n",
    "    variables= [dfi['vars'][x] for x in indicator[:5]]\n",
    "    \n",
    "    varient=dfi['variants'][variant]\n",
    "    \n",
    "    data=[('Panel',2),('Varient',varient),('StartYear',startyear),('EndYear',endyear),('DoWhat','Download as .CSV File')]\n",
    "    \n",
    "    #If we request multiple locations or variables, the form repeats the 'Location' or 'Variable' attribute name\n",
    "    #This means we can't use a Python dict to represent the arguments - instead we create a list of tuples\n",
    "    for l in locations: data.append(('Location',l))\n",
    "    for v in variables: data.append(('Variable',v))\n",
    "    \n",
    "    url='http://esa.un.org/unpd/wpp/unpp/p2k0data_script.asp'\n",
    "\n",
    "    response = requests.post(url,data=data)\n",
    "    \n",
    "    #The data is returned as a string - we use StringIO to make it look like a file stream so pd.read_csv() can read it\n",
    "    #The last two lines of the returned data are an empty line and a metadata line - so let's ignore them.\n",
    "    #skipfooter currently only works with the python engine - so let's declare that to prevent a warning\n",
    "    \n",
    "    #old version with skipfooter, unicode characters represent a problem\n",
    "    #df=pd.read_csv(StringIO(response.text), skipfooter=2, engine='python', encoding='latin-1')\n",
    "    \n",
    "    #new version, unicode OK (you're welcome Côte d'Ivoire)\n",
    "    df=pd.read_csv(StringIO(response.text))\n",
    "    df.ix[0:len(df.index)-3]\n",
    "    \n",
    "    return df"
   ]
  },
  {
   "cell_type": "code",
   "execution_count": null,
   "metadata": {
    "collapsed": false
   },
   "outputs": [],
   "source": [
    "url='http://esa.un.org/unpd/wpp/unpp/panel_indicators.htm'\n",
    "page = requests.get(url)\n",
    "\n",
    "soup=BeautifulSoup(page.content, \"lxml\")\n",
    "\n",
    "unpop={}\n",
    "unpop['vars']=getFormSelectVals(soup,'Variable')\n",
    "unpop['countries']=getFormSelectVals(soup,'Location')\n",
    "unpop['variants']=getFormSelectVals(soup,'Varient')"
   ]
  },
  {
   "cell_type": "code",
   "execution_count": 5,
   "metadata": {
    "collapsed": false
   },
   "outputs": [],
   "source": [
    "#Helper routines for working with the data\n",
    "def search(d, substr):\n",
    "    #Partial string match search within dict key names\n",
    "    #via http://stackoverflow.com/a/10796050/454773\n",
    "    \n",
    "    result = []\n",
    "    for key in d:\n",
    "        if substr.lower() in key.lower():\n",
    "            result.append((key, d[key])) \n",
    "\n",
    "    return result"
   ]
  },
  {
   "cell_type": "markdown",
   "metadata": {},
   "source": [
    "So that's the code... now how do we use it?\n",
    "\n",
    "The first thing we need to do is see what indicators are available:"
   ]
  },
  {
   "cell_type": "code",
   "execution_count": 6,
   "metadata": {
    "collapsed": false
   },
   "outputs": [
    {
     "ename": "AttributeError",
     "evalue": "'NoneType' object has no attribute 'findAll'",
     "output_type": "error",
     "traceback": [
      "\u001b[0;31m---------------------------------------------------------------------------\u001b[0m",
      "\u001b[0;31mAttributeError\u001b[0m                            Traceback (most recent call last)",
      "\u001b[0;32m<ipython-input-6-f8a26e4f6a63>\u001b[0m in \u001b[0;36m<module>\u001b[0;34m()\u001b[0m\n\u001b[1;32m      1\u001b[0m \u001b[1;31m#Get indicators\u001b[0m\u001b[1;33m\u001b[0m\u001b[1;33m\u001b[0m\u001b[0m\n\u001b[0;32m----> 2\u001b[0;31m \u001b[0mdfi\u001b[0m\u001b[1;33m=\u001b[0m\u001b[0mgetUNPopDivIndicators\u001b[0m\u001b[1;33m(\u001b[0m\u001b[1;33m)\u001b[0m\u001b[1;33m\u001b[0m\u001b[0m\n\u001b[0m\u001b[1;32m      3\u001b[0m \u001b[1;33m\u001b[0m\u001b[0m\n\u001b[1;32m      4\u001b[0m \u001b[1;31m#Preview indicators\u001b[0m\u001b[1;33m\u001b[0m\u001b[1;33m\u001b[0m\u001b[0m\n\u001b[1;32m      5\u001b[0m \u001b[0mdfi\u001b[0m\u001b[1;33m[\u001b[0m\u001b[1;34m'vars'\u001b[0m\u001b[1;33m]\u001b[0m\u001b[1;33m\u001b[0m\u001b[0m\n",
      "\u001b[0;32m<ipython-input-4-28fef2c9be54>\u001b[0m in \u001b[0;36mgetUNPopDivIndicators\u001b[0;34m()\u001b[0m\n\u001b[1;32m     28\u001b[0m \u001b[1;33m\u001b[0m\u001b[0m\n\u001b[1;32m     29\u001b[0m     \u001b[0munpop\u001b[0m\u001b[1;33m=\u001b[0m\u001b[1;33m{\u001b[0m\u001b[1;33m}\u001b[0m\u001b[1;33m\u001b[0m\u001b[0m\n\u001b[0;32m---> 30\u001b[0;31m     \u001b[0munpop\u001b[0m\u001b[1;33m[\u001b[0m\u001b[1;34m'vars'\u001b[0m\u001b[1;33m]\u001b[0m\u001b[1;33m=\u001b[0m\u001b[0mgetFormSelectVals\u001b[0m\u001b[1;33m(\u001b[0m\u001b[0msoup\u001b[0m\u001b[1;33m,\u001b[0m\u001b[1;34m'Variable'\u001b[0m\u001b[1;33m)\u001b[0m\u001b[1;33m\u001b[0m\u001b[0m\n\u001b[0m\u001b[1;32m     31\u001b[0m     \u001b[0munpop\u001b[0m\u001b[1;33m[\u001b[0m\u001b[1;34m'countries'\u001b[0m\u001b[1;33m]\u001b[0m\u001b[1;33m=\u001b[0m\u001b[0mgetFormSelectVals\u001b[0m\u001b[1;33m(\u001b[0m\u001b[0msoup\u001b[0m\u001b[1;33m,\u001b[0m\u001b[1;34m'Location'\u001b[0m\u001b[1;33m)\u001b[0m\u001b[1;33m\u001b[0m\u001b[0m\n\u001b[1;32m     32\u001b[0m     \u001b[0munpop\u001b[0m\u001b[1;33m[\u001b[0m\u001b[1;34m'variants'\u001b[0m\u001b[1;33m]\u001b[0m\u001b[1;33m=\u001b[0m\u001b[0mgetFormSelectVals\u001b[0m\u001b[1;33m(\u001b[0m\u001b[0msoup\u001b[0m\u001b[1;33m,\u001b[0m\u001b[1;34m'Varient'\u001b[0m\u001b[1;33m)\u001b[0m\u001b[1;33m\u001b[0m\u001b[0m\n",
      "\u001b[0;32m<ipython-input-4-28fef2c9be54>\u001b[0m in \u001b[0;36mgetFormSelectVals\u001b[0;34m(soup, name)\u001b[0m\n\u001b[1;32m     13\u001b[0m     \u001b[0mtmp\u001b[0m\u001b[1;33m=\u001b[0m\u001b[1;33m{\u001b[0m\u001b[1;33m}\u001b[0m\u001b[1;33m\u001b[0m\u001b[0m\n\u001b[1;32m     14\u001b[0m     \u001b[0mitems\u001b[0m\u001b[1;33m=\u001b[0m\u001b[0msoup\u001b[0m\u001b[1;33m.\u001b[0m\u001b[0mfind\u001b[0m\u001b[1;33m(\u001b[0m\u001b[1;34m'select'\u001b[0m\u001b[1;33m,\u001b[0m\u001b[1;33m{\u001b[0m\u001b[1;34m'name'\u001b[0m\u001b[1;33m:\u001b[0m\u001b[0mname\u001b[0m\u001b[1;33m}\u001b[0m\u001b[1;33m)\u001b[0m\u001b[1;33m\u001b[0m\u001b[0m\n\u001b[0;32m---> 15\u001b[0;31m     \u001b[1;32mfor\u001b[0m \u001b[0mo\u001b[0m \u001b[1;32min\u001b[0m \u001b[0mitems\u001b[0m\u001b[1;33m.\u001b[0m\u001b[0mfindAll\u001b[0m\u001b[1;33m(\u001b[0m\u001b[1;34m'option'\u001b[0m\u001b[1;33m)\u001b[0m\u001b[1;33m:\u001b[0m\u001b[1;33m\u001b[0m\u001b[0m\n\u001b[0m\u001b[1;32m     16\u001b[0m         \u001b[1;31m#print(o.attrs['value'],o.text.strip())\u001b[0m\u001b[1;33m\u001b[0m\u001b[1;33m\u001b[0m\u001b[0m\n\u001b[1;32m     17\u001b[0m         \u001b[0mtmp\u001b[0m\u001b[1;33m[\u001b[0m\u001b[0mo\u001b[0m\u001b[1;33m.\u001b[0m\u001b[0mtext\u001b[0m\u001b[1;33m.\u001b[0m\u001b[0mstrip\u001b[0m\u001b[1;33m(\u001b[0m\u001b[1;33m)\u001b[0m\u001b[1;33m]\u001b[0m\u001b[1;33m=\u001b[0m\u001b[0mo\u001b[0m\u001b[1;33m.\u001b[0m\u001b[0mattrs\u001b[0m\u001b[1;33m[\u001b[0m\u001b[1;34m'value'\u001b[0m\u001b[1;33m]\u001b[0m\u001b[1;33m\u001b[0m\u001b[0m\n",
      "\u001b[0;31mAttributeError\u001b[0m: 'NoneType' object has no attribute 'findAll'"
     ]
    }
   ],
   "source": [
    "#Get indicators\n",
    "dfi=getUNPopDivIndicators()\n",
    "\n",
    "#Preview indicators\n",
    "dfi['vars']"
   ]
  },
  {
   "cell_type": "markdown",
   "metadata": {},
   "source": [
    "We can also search within indicators to find their proper names."
   ]
  },
  {
   "cell_type": "code",
   "execution_count": null,
   "metadata": {
    "collapsed": false
   },
   "outputs": [],
   "source": [
    "#Example search within indicators\n",
    "search(dfi['vars'],'pop')"
   ]
  },
  {
   "cell_type": "markdown",
   "metadata": {},
   "source": [
    "The following shows us what prediction variants are supported."
   ]
  },
  {
   "cell_type": "code",
   "execution_count": 6,
   "metadata": {
    "collapsed": false
   },
   "outputs": [
    {
     "data": {
      "text/plain": [
       "{u'Constant-fertility variant': '5',\n",
       " u'High variant': '3',\n",
       " u'Low variant': '4',\n",
       " u'Medium variant': '2'}"
      ]
     },
     "execution_count": 6,
     "metadata": {},
     "output_type": "execute_result"
    }
   ],
   "source": [
    "#Show variants of predictions\n",
    "dfi['variants']"
   ]
  },
  {
   "cell_type": "markdown",
   "metadata": {},
   "source": [
    "We search for countries by name - but we need to make sure we pass the name in correctly. So search to find out..."
   ]
  },
  {
   "cell_type": "code",
   "execution_count": 217,
   "metadata": {
    "collapsed": false
   },
   "outputs": [
    {
     "data": {
      "text/plain": [
       "[(u'United States of America', '840'),\n",
       " (u'United Republic of Tanzania', '834'),\n",
       " (u'United States Virgin Islands', '850'),\n",
       " (u'United Arab Emirates', '784'),\n",
       " (u'United Kingdom', '826')]"
      ]
     },
     "execution_count": 217,
     "metadata": {},
     "output_type": "execute_result"
    }
   ],
   "source": [
    "#Example search within country names\n",
    "search(dfi['countries'],'united')"
   ]
  },
  {
   "cell_type": "markdown",
   "metadata": {},
   "source": [
    "Once we know what we want to ask for, we can make a data request."
   ]
  },
  {
   "cell_type": "code",
   "execution_count": 7,
   "metadata": {
    "collapsed": false
   },
   "outputs": [
    {
     "ename": "NameError",
     "evalue": "name 'dfi' is not defined",
     "output_type": "error",
     "traceback": [
      "\u001b[0;31m---------------------------------------------------------------------------\u001b[0m",
      "\u001b[0;31mNameError\u001b[0m                                 Traceback (most recent call last)",
      "\u001b[0;32m<ipython-input-7-77c15c9055c4>\u001b[0m in \u001b[0;36m<module>\u001b[0;34m()\u001b[0m\n\u001b[1;32m      1\u001b[0m \u001b[1;31m#Let's run a test query\u001b[0m\u001b[1;33m\u001b[0m\u001b[1;33m\u001b[0m\u001b[0m\n\u001b[0;32m----> 2\u001b[0;31m pop=getUNPopDivData(dfi,['World'],\n\u001b[0m\u001b[1;32m      3\u001b[0m                       ['Population by sex (annual)'])\n\u001b[1;32m      4\u001b[0m \u001b[0mpop\u001b[0m\u001b[1;33m=\u001b[0m\u001b[0mpop\u001b[0m\u001b[1;33m.\u001b[0m\u001b[0mquery\u001b[0m\u001b[1;33m(\u001b[0m\u001b[1;34m'Sex==\"Total\"'\u001b[0m\u001b[1;33m)\u001b[0m\u001b[1;33m.\u001b[0m\u001b[0mdrop\u001b[0m\u001b[1;33m(\u001b[0m\u001b[1;33m[\u001b[0m\u001b[1;34m'Sex'\u001b[0m\u001b[1;33m,\u001b[0m\u001b[1;34m'Variable'\u001b[0m\u001b[1;33m,\u001b[0m\u001b[1;34m'Variant'\u001b[0m\u001b[1;33m]\u001b[0m\u001b[1;33m,\u001b[0m\u001b[0maxis\u001b[0m\u001b[1;33m=\u001b[0m\u001b[1;36m1\u001b[0m\u001b[1;33m)\u001b[0m\u001b[1;33m.\u001b[0m\u001b[0mset_index\u001b[0m\u001b[1;33m(\u001b[0m\u001b[1;33m[\u001b[0m\u001b[1;34m'Country'\u001b[0m\u001b[1;33m,\u001b[0m\u001b[1;34m'Year'\u001b[0m\u001b[1;33m]\u001b[0m\u001b[1;33m)\u001b[0m\u001b[1;33m\u001b[0m\u001b[0m\n",
      "\u001b[0;31mNameError\u001b[0m: name 'dfi' is not defined"
     ]
    }
   ],
   "source": [
    "#Let's run a test query\n",
    "pop=getUNPopDivData(dfi,['World'],\n",
    "                      ['Population by sex (annual)'])\n",
    "pop=pop.query('Sex==\"Total\"').drop(['Sex','Variable','Variant'],axis=1).set_index(['Country','Year'])"
   ]
  },
  {
   "cell_type": "code",
   "execution_count": 52,
   "metadata": {
    "collapsed": false
   },
   "outputs": [
    {
     "data": {
      "text/plain": [
       "<matplotlib.axes.AxesSubplot at 0x9883cc0>"
      ]
     },
     "execution_count": 52,
     "metadata": {},
     "output_type": "execute_result"
    },
    {
     "data": {
      "image/png": "[encoded data removed]",
      "text/plain": [
       "<matplotlib.figure.Figure at 0x98830f0>"
      ]
     },
     "metadata": {},
     "output_type": "display_data"
    }
   ],
   "source": [
    "import matplotlib.pyplot as plt\n",
    "%matplotlib inline\n",
    "pop.loc['World'].plot()"
   ]
  },
  {
   "cell_type": "markdown",
   "metadata": {},
   "source": [
    "UN POP Stats API can take calls only for max 5 countries at a time. Let's split the country list into batches of 5 and do the calls."
   ]
  },
  {
   "cell_type": "code",
   "execution_count": 65,
   "metadata": {
    "collapsed": false
   },
   "outputs": [],
   "source": [
    "def split(arr, size):\n",
    "     arrs = []\n",
    "     while len(arr) > size:\n",
    "         pice = arr[:size]\n",
    "         arrs.append(pice)\n",
    "         arr   = arr[size:]\n",
    "     arrs.append(arr)\n",
    "     return arrs"
   ]
  },
  {
   "cell_type": "code",
   "execution_count": 195,
   "metadata": {
    "collapsed": false
   },
   "outputs": [],
   "source": [
    "#Make all calls - could take up to 5 minutes based on your internet connection and processor speed\n",
    "n = len(split(list(dfi['countries']),5))\n",
    "pop = pd.DataFrame()\n",
    "for i in range(n):\n",
    "    print round((i+1)/float(n),2)\n",
    "    pop2=getUNPopDivData(dfi,split(list(dfi['countries']),5)[i],\n",
    "                          ['Population by sex (annual)'])\n",
    "    pop2=pop2.query('Sex==\"Total\"').drop(['Sex','Variable','Variant'],axis=1).set_index(['Country','Year'])\n",
    "    pop=pd.concat([pop,pop2])\n",
    "    \n",
    "#save to file to avoid running again\n",
    "file('pop.json','w').write(pop.to_csv())"
   ]
  },
  {
   "cell_type": "code",
   "execution_count": 227,
   "metadata": {
    "collapsed": false
   },
   "outputs": [],
   "source": [
    "file('pop.csv','w').write(pop.to_csv())"
   ]
  },
  {
   "cell_type": "code",
   "execution_count": 226,
   "metadata": {
    "collapsed": false
   },
   "outputs": [
    {
     "data": {
      "text/plain": [
       "<matplotlib.axes.AxesSubplot at 0xe4d18d0>"
      ]
     },
     "execution_count": 226,
     "metadata": {},
     "output_type": "execute_result"
    },
    {
     "data": {
      "image/png": "[encoded data removed]",
      "text/plain": [
       "<matplotlib.figure.Figure at 0xdd42588>"
      ]
     },
     "metadata": {},
     "output_type": "display_data"
    }
   ],
   "source": [
    "pop.loc['World'].plot()"
   ]
  }
 ],
 "metadata": {
  "anaconda-cloud": {},
  "kernelspec": {
   "display_name": "Python [default]",
   "language": "python",
   "name": "python2"
  },
  "language_info": {
   "codemirror_mode": {
    "name": "ipython",
    "version": 2
   },
   "file_extension": ".py",
   "mimetype": "text/x-python",
   "name": "python",
   "nbconvert_exporter": "python",
   "pygments_lexer": "ipython2",
   "version": "2.7.12"
  }
 },
 "nbformat": 4,
 "nbformat_minor": 0
}
