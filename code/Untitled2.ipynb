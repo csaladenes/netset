{
 "cells": [
  {
   "cell_type": "code",
   "execution_count": 1,
   "metadata": {
    "collapsed": true
   },
   "outputs": [],
   "source": [
    "import pandas as pd"
   ]
  },
  {
   "cell_type": "code",
   "execution_count": 7,
   "metadata": {
    "collapsed": false
   },
   "outputs": [
    {
     "data": {
      "text/html": [
       "<div>\n",
       "<table border=\"1\" class=\"dataframe\">\n",
       "  <thead>\n",
       "    <tr style=\"text-align: right;\">\n",
       "      <th></th>\n",
       "      <th>0</th>\n",
       "    </tr>\n",
       "  </thead>\n",
       "  <tbody>\n",
       "    <tr>\n",
       "      <th>sa</th>\n",
       "      <td>1</td>\n",
       "    </tr>\n",
       "    <tr>\n",
       "      <th>hf</th>\n",
       "      <td>2</td>\n",
       "    </tr>\n",
       "    <tr>\n",
       "      <th>sfg</th>\n",
       "      <td>3</td>\n",
       "    </tr>\n",
       "    <tr>\n",
       "      <th>ter</th>\n",
       "      <td>4</td>\n",
       "    </tr>\n",
       "    <tr>\n",
       "      <th>iy</th>\n",
       "      <td>5</td>\n",
       "    </tr>\n",
       "    <tr>\n",
       "      <th>fsag</th>\n",
       "      <td>6</td>\n",
       "    </tr>\n",
       "    <tr>\n",
       "      <th>hgf</th>\n",
       "      <td>7</td>\n",
       "    </tr>\n",
       "    <tr>\n",
       "      <th>iy</th>\n",
       "      <td>8</td>\n",
       "    </tr>\n",
       "  </tbody>\n",
       "</table>\n",
       "</div>"
      ],
      "text/plain": [
       "      0\n",
       "sa    1\n",
       "hf    2\n",
       "sfg   3\n",
       "ter   4\n",
       "iy    5\n",
       "fsag  6\n",
       "hgf   7\n",
       "iy    8"
      ]
     },
     "execution_count": 7,
     "metadata": {},
     "output_type": "execute_result"
    }
   ],
   "source": [
    "df=pd.DataFrame([1,2,3,4,5,6,7,8],['sa','hf','sfg','ter','iy','fsag','hgf','iy'])\n",
    "df"
   ]
  },
  {
   "cell_type": "code",
   "execution_count": 8,
   "metadata": {
    "collapsed": false
   },
   "outputs": [
    {
     "name": "stderr",
     "output_type": "stream",
     "text": [
      "C:\\Anaconda2\\lib\\site-packages\\ipykernel\\__main__.py:1: FutureWarning: sort(....) is deprecated, use sort_index(.....)\n",
      "  if __name__ == '__main__':\n"
     ]
    },
    {
     "data": {
      "text/html": [
       "<div>\n",
       "<table border=\"1\" class=\"dataframe\">\n",
       "  <thead>\n",
       "    <tr style=\"text-align: right;\">\n",
       "      <th></th>\n",
       "      <th>0</th>\n",
       "    </tr>\n",
       "  </thead>\n",
       "  <tbody>\n",
       "    <tr>\n",
       "      <th>fsag</th>\n",
       "      <td>6</td>\n",
       "    </tr>\n",
       "    <tr>\n",
       "      <th>hf</th>\n",
       "      <td>2</td>\n",
       "    </tr>\n",
       "    <tr>\n",
       "      <th>hgf</th>\n",
       "      <td>7</td>\n",
       "    </tr>\n",
       "    <tr>\n",
       "      <th>iy</th>\n",
       "      <td>5</td>\n",
       "    </tr>\n",
       "    <tr>\n",
       "      <th>iy</th>\n",
       "      <td>8</td>\n",
       "    </tr>\n",
       "    <tr>\n",
       "      <th>sa</th>\n",
       "      <td>1</td>\n",
       "    </tr>\n",
       "    <tr>\n",
       "      <th>sfg</th>\n",
       "      <td>3</td>\n",
       "    </tr>\n",
       "    <tr>\n",
       "      <th>ter</th>\n",
       "      <td>4</td>\n",
       "    </tr>\n",
       "  </tbody>\n",
       "</table>\n",
       "</div>"
      ],
      "text/plain": [
       "      0\n",
       "fsag  6\n",
       "hf    2\n",
       "hgf   7\n",
       "iy    5\n",
       "iy    8\n",
       "sa    1\n",
       "sfg   3\n",
       "ter   4"
      ]
     },
     "execution_count": 8,
     "metadata": {},
     "output_type": "execute_result"
    }
   ],
   "source": [
    "df.sort()"
   ]
  },
  {
   "cell_type": "code",
   "execution_count": 9,
   "metadata": {
    "collapsed": false
   },
   "outputs": [
    {
     "data": {
      "text/html": [
       "<div>\n",
       "<table border=\"1\" class=\"dataframe\">\n",
       "  <thead>\n",
       "    <tr style=\"text-align: right;\">\n",
       "      <th></th>\n",
       "      <th>0</th>\n",
       "    </tr>\n",
       "  </thead>\n",
       "  <tbody>\n",
       "    <tr>\n",
       "      <th>iy</th>\n",
       "      <td>5</td>\n",
       "    </tr>\n",
       "    <tr>\n",
       "      <th>iy</th>\n",
       "      <td>8</td>\n",
       "    </tr>\n",
       "  </tbody>\n",
       "</table>\n",
       "</div>"
      ],
      "text/plain": [
       "    0\n",
       "iy  5\n",
       "iy  8"
      ]
     },
     "execution_count": 9,
     "metadata": {},
     "output_type": "execute_result"
    }
   ],
   "source": [
    "df.loc['iy']"
   ]
  },
  {
   "cell_type": "code",
   "execution_count": 10,
   "metadata": {
    "collapsed": true
   },
   "outputs": [],
   "source": [
    "data=pd.read_csv('http://ckan.lancaster.ac.uk:8080/dataset/f40f3fbc-08b3-465e-ba20-d7ea3bb2e0f4/resource/d61d8c2d-f3ce-422f-a477-f38a10157de3/download/synetica-dec-2016.csv')"
   ]
  },
  {
   "cell_type": "code",
   "execution_count": 21,
   "metadata": {
    "collapsed": false
   },
   "outputs": [
    {
     "data": {
      "text/html": [
       "<div>\n",
       "<table border=\"1\" class=\"dataframe\">\n",
       "  <thead>\n",
       "    <tr style=\"text-align: right;\">\n",
       "      <th></th>\n",
       "      <th></th>\n",
       "      <th></th>\n",
       "      <th></th>\n",
       "      <th>reading</th>\n",
       "    </tr>\n",
       "    <tr>\n",
       "      <th>device_id</th>\n",
       "      <th>name</th>\n",
       "      <th>units</th>\n",
       "      <th>timestamp</th>\n",
       "      <th></th>\n",
       "    </tr>\n",
       "  </thead>\n",
       "  <tbody>\n",
       "    <tr>\n",
       "      <th rowspan=\"30\" valign=\"top\">{59D30588-2758-4967-B6EB-2AB38C0E773C}</th>\n",
       "      <th rowspan=\"30\" valign=\"top\">Meter 1</th>\n",
       "      <th rowspan=\"30\" valign=\"top\">kWh</th>\n",
       "      <th>2016-12-01 00:00:00</th>\n",
       "      <td>0.000000</td>\n",
       "    </tr>\n",
       "    <tr>\n",
       "      <th>2016-12-01 00:30:00</th>\n",
       "      <td>0.000000</td>\n",
       "    </tr>\n",
       "    <tr>\n",
       "      <th>2016-12-01 01:00:00</th>\n",
       "      <td>0.000000</td>\n",
       "    </tr>\n",
       "    <tr>\n",
       "      <th>2016-12-01 01:30:00</th>\n",
       "      <td>0.000000</td>\n",
       "    </tr>\n",
       "    <tr>\n",
       "      <th>2016-12-01 02:00:00</th>\n",
       "      <td>0.000000</td>\n",
       "    </tr>\n",
       "    <tr>\n",
       "      <th>2016-12-01 02:30:00</th>\n",
       "      <td>0.000000</td>\n",
       "    </tr>\n",
       "    <tr>\n",
       "      <th>2016-12-01 03:00:00</th>\n",
       "      <td>0.000000</td>\n",
       "    </tr>\n",
       "    <tr>\n",
       "      <th>2016-12-01 03:30:00</th>\n",
       "      <td>0.000000</td>\n",
       "    </tr>\n",
       "    <tr>\n",
       "      <th>2016-12-01 04:00:00</th>\n",
       "      <td>0.000000</td>\n",
       "    </tr>\n",
       "    <tr>\n",
       "      <th>2016-12-01 04:30:00</th>\n",
       "      <td>0.000000</td>\n",
       "    </tr>\n",
       "    <tr>\n",
       "      <th>2016-12-01 05:00:00</th>\n",
       "      <td>0.000000</td>\n",
       "    </tr>\n",
       "    <tr>\n",
       "      <th>2016-12-01 05:30:00</th>\n",
       "      <td>0.000000</td>\n",
       "    </tr>\n",
       "    <tr>\n",
       "      <th>2016-12-01 06:00:00</th>\n",
       "      <td>0.000000</td>\n",
       "    </tr>\n",
       "    <tr>\n",
       "      <th>2016-12-01 06:30:00</th>\n",
       "      <td>0.000000</td>\n",
       "    </tr>\n",
       "    <tr>\n",
       "      <th>2016-12-01 07:00:00</th>\n",
       "      <td>0.000000</td>\n",
       "    </tr>\n",
       "    <tr>\n",
       "      <th>2016-12-01 07:30:00</th>\n",
       "      <td>0.000000</td>\n",
       "    </tr>\n",
       "    <tr>\n",
       "      <th>2016-12-01 08:00:00</th>\n",
       "      <td>0.000000</td>\n",
       "    </tr>\n",
       "    <tr>\n",
       "      <th>2016-12-01 08:30:00</th>\n",
       "      <td>0.000000</td>\n",
       "    </tr>\n",
       "    <tr>\n",
       "      <th>2016-12-01 09:00:00</th>\n",
       "      <td>0.000000</td>\n",
       "    </tr>\n",
       "    <tr>\n",
       "      <th>2016-12-01 09:30:00</th>\n",
       "      <td>0.000000</td>\n",
       "    </tr>\n",
       "    <tr>\n",
       "      <th>2016-12-01 10:00:00</th>\n",
       "      <td>0.000000</td>\n",
       "    </tr>\n",
       "    <tr>\n",
       "      <th>2016-12-01 10:30:00</th>\n",
       "      <td>0.000000</td>\n",
       "    </tr>\n",
       "    <tr>\n",
       "      <th>2016-12-01 11:00:00</th>\n",
       "      <td>0.000000</td>\n",
       "    </tr>\n",
       "    <tr>\n",
       "      <th>2016-12-01 11:30:00</th>\n",
       "      <td>0.000000</td>\n",
       "    </tr>\n",
       "    <tr>\n",
       "      <th>2016-12-01 12:00:00</th>\n",
       "      <td>0.000000</td>\n",
       "    </tr>\n",
       "    <tr>\n",
       "      <th>2016-12-01 12:30:00</th>\n",
       "      <td>0.000000</td>\n",
       "    </tr>\n",
       "    <tr>\n",
       "      <th>2016-12-01 13:00:00</th>\n",
       "      <td>0.000000</td>\n",
       "    </tr>\n",
       "    <tr>\n",
       "      <th>2016-12-01 13:30:00</th>\n",
       "      <td>0.000000</td>\n",
       "    </tr>\n",
       "    <tr>\n",
       "      <th>2016-12-01 14:00:00</th>\n",
       "      <td>0.000000</td>\n",
       "    </tr>\n",
       "    <tr>\n",
       "      <th>2016-12-01 14:30:00</th>\n",
       "      <td>0.000000</td>\n",
       "    </tr>\n",
       "    <tr>\n",
       "      <th>...</th>\n",
       "      <th>...</th>\n",
       "      <th>...</th>\n",
       "      <th>...</th>\n",
       "      <td>...</td>\n",
       "    </tr>\n",
       "    <tr>\n",
       "      <th rowspan=\"30\" valign=\"top\">{17B914B6-51C2-47DC-8F04-36CA4C41206D}</th>\n",
       "      <th rowspan=\"30\" valign=\"top\">SubwayRetailUnitVolts1</th>\n",
       "      <th rowspan=\"30\" valign=\"top\">V</th>\n",
       "      <th>2016-12-21 09:00:00</th>\n",
       "      <td>234.438828</td>\n",
       "    </tr>\n",
       "    <tr>\n",
       "      <th>2016-12-21 09:30:00</th>\n",
       "      <td>234.605148</td>\n",
       "    </tr>\n",
       "    <tr>\n",
       "      <th>2016-12-21 10:00:00</th>\n",
       "      <td>235.490891</td>\n",
       "    </tr>\n",
       "    <tr>\n",
       "      <th>2016-12-21 10:30:00</th>\n",
       "      <td>236.004440</td>\n",
       "    </tr>\n",
       "    <tr>\n",
       "      <th>2016-12-21 11:00:00</th>\n",
       "      <td>235.321167</td>\n",
       "    </tr>\n",
       "    <tr>\n",
       "      <th>2016-12-21 11:30:00</th>\n",
       "      <td>234.888962</td>\n",
       "    </tr>\n",
       "    <tr>\n",
       "      <th>2016-12-21 12:00:00</th>\n",
       "      <td>235.622787</td>\n",
       "    </tr>\n",
       "    <tr>\n",
       "      <th>2016-12-21 12:30:00</th>\n",
       "      <td>235.183365</td>\n",
       "    </tr>\n",
       "    <tr>\n",
       "      <th>2016-12-21 13:00:00</th>\n",
       "      <td>236.117401</td>\n",
       "    </tr>\n",
       "    <tr>\n",
       "      <th>2016-12-21 13:30:00</th>\n",
       "      <td>235.560410</td>\n",
       "    </tr>\n",
       "    <tr>\n",
       "      <th>2016-12-21 14:00:00</th>\n",
       "      <td>237.026871</td>\n",
       "    </tr>\n",
       "    <tr>\n",
       "      <th>2016-12-21 14:30:00</th>\n",
       "      <td>237.447006</td>\n",
       "    </tr>\n",
       "    <tr>\n",
       "      <th>2016-12-21 15:00:00</th>\n",
       "      <td>235.673080</td>\n",
       "    </tr>\n",
       "    <tr>\n",
       "      <th>2016-12-21 15:30:00</th>\n",
       "      <td>236.047104</td>\n",
       "    </tr>\n",
       "    <tr>\n",
       "      <th>2016-12-21 16:00:00</th>\n",
       "      <td>235.630295</td>\n",
       "    </tr>\n",
       "    <tr>\n",
       "      <th>2016-12-21 16:30:00</th>\n",
       "      <td>233.985214</td>\n",
       "    </tr>\n",
       "    <tr>\n",
       "      <th>2016-12-21 17:00:00</th>\n",
       "      <td>237.451584</td>\n",
       "    </tr>\n",
       "    <tr>\n",
       "      <th>2016-12-21 17:30:00</th>\n",
       "      <td>237.746124</td>\n",
       "    </tr>\n",
       "    <tr>\n",
       "      <th>2016-12-21 18:00:00</th>\n",
       "      <td>239.352402</td>\n",
       "    </tr>\n",
       "    <tr>\n",
       "      <th>2016-12-21 18:30:00</th>\n",
       "      <td>239.402847</td>\n",
       "    </tr>\n",
       "    <tr>\n",
       "      <th>2016-12-21 19:00:00</th>\n",
       "      <td>240.315674</td>\n",
       "    </tr>\n",
       "    <tr>\n",
       "      <th>2016-12-21 19:30:00</th>\n",
       "      <td>239.943909</td>\n",
       "    </tr>\n",
       "    <tr>\n",
       "      <th>2016-12-21 20:00:00</th>\n",
       "      <td>240.587585</td>\n",
       "    </tr>\n",
       "    <tr>\n",
       "      <th>2016-12-21 20:30:00</th>\n",
       "      <td>237.814240</td>\n",
       "    </tr>\n",
       "    <tr>\n",
       "      <th>2016-12-21 21:00:00</th>\n",
       "      <td>238.224319</td>\n",
       "    </tr>\n",
       "    <tr>\n",
       "      <th>2016-12-21 21:30:00</th>\n",
       "      <td>238.232803</td>\n",
       "    </tr>\n",
       "    <tr>\n",
       "      <th>2016-12-21 22:00:00</th>\n",
       "      <td>239.680008</td>\n",
       "    </tr>\n",
       "    <tr>\n",
       "      <th>2016-12-21 22:30:00</th>\n",
       "      <td>239.767929</td>\n",
       "    </tr>\n",
       "    <tr>\n",
       "      <th>2016-12-21 23:00:00</th>\n",
       "      <td>241.277756</td>\n",
       "    </tr>\n",
       "    <tr>\n",
       "      <th>2016-12-21 23:30:00</th>\n",
       "      <td>240.602036</td>\n",
       "    </tr>\n",
       "  </tbody>\n",
       "</table>\n",
       "<p>6568 rows × 1 columns</p>\n",
       "</div>"
      ],
      "text/plain": [
       "                                                                                            reading\n",
       "device_id                              name                   units timestamp                      \n",
       "{59D30588-2758-4967-B6EB-2AB38C0E773C} Meter 1                kWh   2016-12-01 00:00:00    0.000000\n",
       "                                                                    2016-12-01 00:30:00    0.000000\n",
       "                                                                    2016-12-01 01:00:00    0.000000\n",
       "                                                                    2016-12-01 01:30:00    0.000000\n",
       "                                                                    2016-12-01 02:00:00    0.000000\n",
       "                                                                    2016-12-01 02:30:00    0.000000\n",
       "                                                                    2016-12-01 03:00:00    0.000000\n",
       "                                                                    2016-12-01 03:30:00    0.000000\n",
       "                                                                    2016-12-01 04:00:00    0.000000\n",
       "                                                                    2016-12-01 04:30:00    0.000000\n",
       "                                                                    2016-12-01 05:00:00    0.000000\n",
       "                                                                    2016-12-01 05:30:00    0.000000\n",
       "                                                                    2016-12-01 06:00:00    0.000000\n",
       "                                                                    2016-12-01 06:30:00    0.000000\n",
       "                                                                    2016-12-01 07:00:00    0.000000\n",
       "                                                                    2016-12-01 07:30:00    0.000000\n",
       "                                                                    2016-12-01 08:00:00    0.000000\n",
       "                                                                    2016-12-01 08:30:00    0.000000\n",
       "                                                                    2016-12-01 09:00:00    0.000000\n",
       "                                                                    2016-12-01 09:30:00    0.000000\n",
       "                                                                    2016-12-01 10:00:00    0.000000\n",
       "                                                                    2016-12-01 10:30:00    0.000000\n",
       "                                                                    2016-12-01 11:00:00    0.000000\n",
       "                                                                    2016-12-01 11:30:00    0.000000\n",
       "                                                                    2016-12-01 12:00:00    0.000000\n",
       "                                                                    2016-12-01 12:30:00    0.000000\n",
       "                                                                    2016-12-01 13:00:00    0.000000\n",
       "                                                                    2016-12-01 13:30:00    0.000000\n",
       "                                                                    2016-12-01 14:00:00    0.000000\n",
       "                                                                    2016-12-01 14:30:00    0.000000\n",
       "...                                                                                             ...\n",
       "{17B914B6-51C2-47DC-8F04-36CA4C41206D} SubwayRetailUnitVolts1 V     2016-12-21 09:00:00  234.438828\n",
       "                                                                    2016-12-21 09:30:00  234.605148\n",
       "                                                                    2016-12-21 10:00:00  235.490891\n",
       "                                                                    2016-12-21 10:30:00  236.004440\n",
       "                                                                    2016-12-21 11:00:00  235.321167\n",
       "                                                                    2016-12-21 11:30:00  234.888962\n",
       "                                                                    2016-12-21 12:00:00  235.622787\n",
       "                                                                    2016-12-21 12:30:00  235.183365\n",
       "                                                                    2016-12-21 13:00:00  236.117401\n",
       "                                                                    2016-12-21 13:30:00  235.560410\n",
       "                                                                    2016-12-21 14:00:00  237.026871\n",
       "                                                                    2016-12-21 14:30:00  237.447006\n",
       "                                                                    2016-12-21 15:00:00  235.673080\n",
       "                                                                    2016-12-21 15:30:00  236.047104\n",
       "                                                                    2016-12-21 16:00:00  235.630295\n",
       "                                                                    2016-12-21 16:30:00  233.985214\n",
       "                                                                    2016-12-21 17:00:00  237.451584\n",
       "                                                                    2016-12-21 17:30:00  237.746124\n",
       "                                                                    2016-12-21 18:00:00  239.352402\n",
       "                                                                    2016-12-21 18:30:00  239.402847\n",
       "                                                                    2016-12-21 19:00:00  240.315674\n",
       "                                                                    2016-12-21 19:30:00  239.943909\n",
       "                                                                    2016-12-21 20:00:00  240.587585\n",
       "                                                                    2016-12-21 20:30:00  237.814240\n",
       "                                                                    2016-12-21 21:00:00  238.224319\n",
       "                                                                    2016-12-21 21:30:00  238.232803\n",
       "                                                                    2016-12-21 22:00:00  239.680008\n",
       "                                                                    2016-12-21 22:30:00  239.767929\n",
       "                                                                    2016-12-21 23:00:00  241.277756\n",
       "                                                                    2016-12-21 23:30:00  240.602036\n",
       "\n",
       "[6568 rows x 1 columns]"
      ]
     },
     "execution_count": 21,
     "metadata": {},
     "output_type": "execute_result"
    }
   ],
   "source": [
    "data.set_index(['device_id','name','units','timestamp'])"
   ]
  },
  {
   "cell_type": "code",
   "execution_count": 34,
   "metadata": {
    "collapsed": false
   },
   "outputs": [],
   "source": [
    "df=pd.read_csv('http://ckan.lancaster.ac.uk:8080/dataset/ba5ba67a-d05d-4311-a35a-80b0d869c673/resource/5e689127-e4ce-47df-a90a-8208bd6e7bdd/download/ems-jul-2016.csv')"
   ]
  },
  {
   "cell_type": "code",
   "execution_count": 35,
   "metadata": {
    "collapsed": true
   },
   "outputs": [],
   "source": [
    "df=df.set_index('timestamp')"
   ]
  },
  {
   "cell_type": "code",
   "execution_count": 36,
   "metadata": {
    "collapsed": false
   },
   "outputs": [
    {
     "name": "stdout",
     "output_type": "stream",
     "text": [
      "2016-07-01 00:00:00\n",
      "2016-07-30 22:00:00\n"
     ]
    }
   ],
   "source": [
    "print min(df.index)\n",
    "print max(df.index)"
   ]
  },
  {
   "cell_type": "code",
   "execution_count": 37,
   "metadata": {
    "collapsed": false
   },
   "outputs": [
    {
     "name": "stderr",
     "output_type": "stream",
     "text": [
      "C:\\Anaconda2\\lib\\site-packages\\ipykernel\\__main__.py:1: FutureWarning: sort(....) is deprecated, use sort_index(.....)\n",
      "  if __name__ == '__main__':\n"
     ]
    }
   ],
   "source": [
    "df=df.sort()"
   ]
  },
  {
   "cell_type": "code",
   "execution_count": 38,
   "metadata": {
    "collapsed": false
   },
   "outputs": [
    {
     "data": {
      "text/html": [
       "<div>\n",
       "<table border=\"1\" class=\"dataframe\">\n",
       "  <thead>\n",
       "    <tr style=\"text-align: right;\">\n",
       "      <th></th>\n",
       "      <th>id</th>\n",
       "      <th>metadata_id</th>\n",
       "      <th>consumption</th>\n",
       "      <th>meter_reading</th>\n",
       "    </tr>\n",
       "    <tr>\n",
       "      <th>timestamp</th>\n",
       "      <th></th>\n",
       "      <th></th>\n",
       "      <th></th>\n",
       "      <th></th>\n",
       "    </tr>\n",
       "  </thead>\n",
       "  <tbody>\n",
       "    <tr>\n",
       "      <th>2016-07-30 22:00:00</th>\n",
       "      <td>51</td>\n",
       "      <td>317</td>\n",
       "      <td>0</td>\n",
       "      <td>122157</td>\n",
       "    </tr>\n",
       "    <tr>\n",
       "      <th>2016-07-30 22:00:00</th>\n",
       "      <td>51</td>\n",
       "      <td>318</td>\n",
       "      <td>0</td>\n",
       "      <td>78412</td>\n",
       "    </tr>\n",
       "    <tr>\n",
       "      <th>2016-07-30 22:00:00</th>\n",
       "      <td>58</td>\n",
       "      <td>179</td>\n",
       "      <td>88</td>\n",
       "      <td>13506644</td>\n",
       "    </tr>\n",
       "    <tr>\n",
       "      <th>2016-07-30 22:00:00</th>\n",
       "      <td>58</td>\n",
       "      <td>69</td>\n",
       "      <td>0</td>\n",
       "      <td>208700</td>\n",
       "    </tr>\n",
       "    <tr>\n",
       "      <th>2016-07-30 22:00:00</th>\n",
       "      <td>51</td>\n",
       "      <td>153</td>\n",
       "      <td>0</td>\n",
       "      <td>2795495</td>\n",
       "    </tr>\n",
       "    <tr>\n",
       "      <th>2016-07-30 22:00:00</th>\n",
       "      <td>51</td>\n",
       "      <td>152</td>\n",
       "      <td>0</td>\n",
       "      <td>42996</td>\n",
       "    </tr>\n",
       "    <tr>\n",
       "      <th>2016-07-30 22:00:00</th>\n",
       "      <td>58</td>\n",
       "      <td>68</td>\n",
       "      <td>0</td>\n",
       "      <td>604193</td>\n",
       "    </tr>\n",
       "    <tr>\n",
       "      <th>2016-07-30 22:00:00</th>\n",
       "      <td>51</td>\n",
       "      <td>314</td>\n",
       "      <td>0</td>\n",
       "      <td>6476176</td>\n",
       "    </tr>\n",
       "    <tr>\n",
       "      <th>2016-07-30 22:00:00</th>\n",
       "      <td>51</td>\n",
       "      <td>315</td>\n",
       "      <td>14</td>\n",
       "      <td>675347</td>\n",
       "    </tr>\n",
       "    <tr>\n",
       "      <th>2016-07-30 22:00:00</th>\n",
       "      <td>51</td>\n",
       "      <td>154</td>\n",
       "      <td>0</td>\n",
       "      <td>195941</td>\n",
       "    </tr>\n",
       "  </tbody>\n",
       "</table>\n",
       "</div>"
      ],
      "text/plain": [
       "                     id  metadata_id  consumption  meter_reading\n",
       "timestamp                                                       \n",
       "2016-07-30 22:00:00  51          317            0         122157\n",
       "2016-07-30 22:00:00  51          318            0          78412\n",
       "2016-07-30 22:00:00  58          179           88       13506644\n",
       "2016-07-30 22:00:00  58           69            0         208700\n",
       "2016-07-30 22:00:00  51          153            0        2795495\n",
       "2016-07-30 22:00:00  51          152            0          42996\n",
       "2016-07-30 22:00:00  58           68            0         604193\n",
       "2016-07-30 22:00:00  51          314            0        6476176\n",
       "2016-07-30 22:00:00  51          315           14         675347\n",
       "2016-07-30 22:00:00  51          154            0         195941"
      ]
     },
     "execution_count": 38,
     "metadata": {},
     "output_type": "execute_result"
    }
   ],
   "source": [
    "df.tail(10)"
   ]
  },
  {
   "cell_type": "code",
   "execution_count": 43,
   "metadata": {
    "collapsed": false
   },
   "outputs": [],
   "source": [
    "de=pd.read_json('a.json')"
   ]
  },
  {
   "cell_type": "code",
   "execution_count": 45,
   "metadata": {
    "collapsed": false
   },
   "outputs": [],
   "source": [
    "de=de.set_index('timestamp')"
   ]
  },
  {
   "cell_type": "code",
   "execution_count": 46,
   "metadata": {
    "collapsed": false
   },
   "outputs": [
    {
     "name": "stderr",
     "output_type": "stream",
     "text": [
      "C:\\Anaconda2\\lib\\site-packages\\ipykernel\\__main__.py:1: FutureWarning: sort(....) is deprecated, use sort_index(.....)\n",
      "  if __name__ == '__main__':\n"
     ]
    }
   ],
   "source": [
    "de=de.sort()"
   ]
  },
  {
   "cell_type": "code",
   "execution_count": 47,
   "metadata": {
    "collapsed": false
   },
   "outputs": [
    {
     "name": "stdout",
     "output_type": "stream",
     "text": [
      "2017-02-01 00:00:00\n",
      "2017-02-28 23:30:00\n"
     ]
    }
   ],
   "source": [
    "print min(de.index)\n",
    "print max(de.index)"
   ]
  },
  {
   "cell_type": "code",
   "execution_count": 22,
   "metadata": {
    "collapsed": false
   },
   "outputs": [
    {
     "ename": "HTTPError",
     "evalue": "HTTP Error 400: Bad Request",
     "output_type": "error",
     "traceback": [
      "\u001b[0;31m---------------------------------------------------------------------------\u001b[0m",
      "\u001b[0;31mHTTPError\u001b[0m                                 Traceback (most recent call last)",
      "\u001b[0;32m<ipython-input-22-26ed3f7b1db9>\u001b[0m in \u001b[0;36m<module>\u001b[0;34m()\u001b[0m\n\u001b[1;32m      1\u001b[0m \u001b[0mq\u001b[0m\u001b[1;33m=\u001b[0m\u001b[1;34m'Meter 1'\u001b[0m\u001b[1;33m\u001b[0m\u001b[0m\n\u001b[0;32m----> 2\u001b[0;31m \u001b[0mpd\u001b[0m\u001b[1;33m.\u001b[0m\u001b[0mread_json\u001b[0m\u001b[1;33m(\u001b[0m\u001b[1;34m'http://ckan.lancaster.ac.uk:8080/api/action/datastore_search?resource_id=d61d8c2d-f3ce-422f-a477-f38a10157de3&q='\u001b[0m\u001b[1;33m+\u001b[0m\u001b[0mq\u001b[0m\u001b[1;33m)\u001b[0m\u001b[1;33m\u001b[0m\u001b[0m\n\u001b[0m",
      "\u001b[0;32mC:\\Anaconda2\\lib\\site-packages\\pandas\\io\\json.pyc\u001b[0m in \u001b[0;36mread_json\u001b[0;34m(path_or_buf, orient, typ, dtype, convert_axes, convert_dates, keep_default_dates, numpy, precise_float, date_unit)\u001b[0m\n\u001b[1;32m    185\u001b[0m     \"\"\"\n\u001b[1;32m    186\u001b[0m \u001b[1;33m\u001b[0m\u001b[0m\n\u001b[0;32m--> 187\u001b[0;31m     \u001b[0mfilepath_or_buffer\u001b[0m\u001b[1;33m,\u001b[0m \u001b[0m_\u001b[0m\u001b[1;33m,\u001b[0m \u001b[0m_\u001b[0m \u001b[1;33m=\u001b[0m \u001b[0mget_filepath_or_buffer\u001b[0m\u001b[1;33m(\u001b[0m\u001b[0mpath_or_buf\u001b[0m\u001b[1;33m)\u001b[0m\u001b[1;33m\u001b[0m\u001b[0m\n\u001b[0m\u001b[1;32m    188\u001b[0m     \u001b[1;32mif\u001b[0m \u001b[0misinstance\u001b[0m\u001b[1;33m(\u001b[0m\u001b[0mfilepath_or_buffer\u001b[0m\u001b[1;33m,\u001b[0m \u001b[0mcompat\u001b[0m\u001b[1;33m.\u001b[0m\u001b[0mstring_types\u001b[0m\u001b[1;33m)\u001b[0m\u001b[1;33m:\u001b[0m\u001b[1;33m\u001b[0m\u001b[0m\n\u001b[1;32m    189\u001b[0m         \u001b[1;32mtry\u001b[0m\u001b[1;33m:\u001b[0m\u001b[1;33m\u001b[0m\u001b[0m\n",
      "\u001b[0;32mC:\\Anaconda2\\lib\\site-packages\\pandas\\io\\common.pyc\u001b[0m in \u001b[0;36mget_filepath_or_buffer\u001b[0;34m(filepath_or_buffer, encoding, compression)\u001b[0m\n\u001b[1;32m    306\u001b[0m \u001b[1;33m\u001b[0m\u001b[0m\n\u001b[1;32m    307\u001b[0m     \u001b[1;32mif\u001b[0m \u001b[0m_is_url\u001b[0m\u001b[1;33m(\u001b[0m\u001b[0mfilepath_or_buffer\u001b[0m\u001b[1;33m)\u001b[0m\u001b[1;33m:\u001b[0m\u001b[1;33m\u001b[0m\u001b[0m\n\u001b[0;32m--> 308\u001b[0;31m         \u001b[0mreq\u001b[0m \u001b[1;33m=\u001b[0m \u001b[0m_urlopen\u001b[0m\u001b[1;33m(\u001b[0m\u001b[0mstr\u001b[0m\u001b[1;33m(\u001b[0m\u001b[0mfilepath_or_buffer\u001b[0m\u001b[1;33m)\u001b[0m\u001b[1;33m)\u001b[0m\u001b[1;33m\u001b[0m\u001b[0m\n\u001b[0m\u001b[1;32m    309\u001b[0m         \u001b[1;32mif\u001b[0m \u001b[0mcompression\u001b[0m \u001b[1;33m==\u001b[0m \u001b[1;34m'infer'\u001b[0m\u001b[1;33m:\u001b[0m\u001b[1;33m\u001b[0m\u001b[0m\n\u001b[1;32m    310\u001b[0m             \u001b[0mcontent_encoding\u001b[0m \u001b[1;33m=\u001b[0m \u001b[0mreq\u001b[0m\u001b[1;33m.\u001b[0m\u001b[0mheaders\u001b[0m\u001b[1;33m.\u001b[0m\u001b[0mget\u001b[0m\u001b[1;33m(\u001b[0m\u001b[1;34m'Content-Encoding'\u001b[0m\u001b[1;33m,\u001b[0m \u001b[0mNone\u001b[0m\u001b[1;33m)\u001b[0m\u001b[1;33m\u001b[0m\u001b[0m\n",
      "\u001b[0;32mC:\\Anaconda2\\lib\\urllib2.pyc\u001b[0m in \u001b[0;36murlopen\u001b[0;34m(url, data, timeout, cafile, capath, cadefault, context)\u001b[0m\n\u001b[1;32m    152\u001b[0m     \u001b[1;32melse\u001b[0m\u001b[1;33m:\u001b[0m\u001b[1;33m\u001b[0m\u001b[0m\n\u001b[1;32m    153\u001b[0m         \u001b[0mopener\u001b[0m \u001b[1;33m=\u001b[0m \u001b[0m_opener\u001b[0m\u001b[1;33m\u001b[0m\u001b[0m\n\u001b[0;32m--> 154\u001b[0;31m     \u001b[1;32mreturn\u001b[0m \u001b[0mopener\u001b[0m\u001b[1;33m.\u001b[0m\u001b[0mopen\u001b[0m\u001b[1;33m(\u001b[0m\u001b[0murl\u001b[0m\u001b[1;33m,\u001b[0m \u001b[0mdata\u001b[0m\u001b[1;33m,\u001b[0m \u001b[0mtimeout\u001b[0m\u001b[1;33m)\u001b[0m\u001b[1;33m\u001b[0m\u001b[0m\n\u001b[0m\u001b[1;32m    155\u001b[0m \u001b[1;33m\u001b[0m\u001b[0m\n\u001b[1;32m    156\u001b[0m \u001b[1;32mdef\u001b[0m \u001b[0minstall_opener\u001b[0m\u001b[1;33m(\u001b[0m\u001b[0mopener\u001b[0m\u001b[1;33m)\u001b[0m\u001b[1;33m:\u001b[0m\u001b[1;33m\u001b[0m\u001b[0m\n",
      "\u001b[0;32mC:\\Anaconda2\\lib\\urllib2.pyc\u001b[0m in \u001b[0;36mopen\u001b[0;34m(self, fullurl, data, timeout)\u001b[0m\n\u001b[1;32m    433\u001b[0m         \u001b[1;32mfor\u001b[0m \u001b[0mprocessor\u001b[0m \u001b[1;32min\u001b[0m \u001b[0mself\u001b[0m\u001b[1;33m.\u001b[0m\u001b[0mprocess_response\u001b[0m\u001b[1;33m.\u001b[0m\u001b[0mget\u001b[0m\u001b[1;33m(\u001b[0m\u001b[0mprotocol\u001b[0m\u001b[1;33m,\u001b[0m \u001b[1;33m[\u001b[0m\u001b[1;33m]\u001b[0m\u001b[1;33m)\u001b[0m\u001b[1;33m:\u001b[0m\u001b[1;33m\u001b[0m\u001b[0m\n\u001b[1;32m    434\u001b[0m             \u001b[0mmeth\u001b[0m \u001b[1;33m=\u001b[0m \u001b[0mgetattr\u001b[0m\u001b[1;33m(\u001b[0m\u001b[0mprocessor\u001b[0m\u001b[1;33m,\u001b[0m \u001b[0mmeth_name\u001b[0m\u001b[1;33m)\u001b[0m\u001b[1;33m\u001b[0m\u001b[0m\n\u001b[0;32m--> 435\u001b[0;31m             \u001b[0mresponse\u001b[0m \u001b[1;33m=\u001b[0m \u001b[0mmeth\u001b[0m\u001b[1;33m(\u001b[0m\u001b[0mreq\u001b[0m\u001b[1;33m,\u001b[0m \u001b[0mresponse\u001b[0m\u001b[1;33m)\u001b[0m\u001b[1;33m\u001b[0m\u001b[0m\n\u001b[0m\u001b[1;32m    436\u001b[0m \u001b[1;33m\u001b[0m\u001b[0m\n\u001b[1;32m    437\u001b[0m         \u001b[1;32mreturn\u001b[0m \u001b[0mresponse\u001b[0m\u001b[1;33m\u001b[0m\u001b[0m\n",
      "\u001b[0;32mC:\\Anaconda2\\lib\\urllib2.pyc\u001b[0m in \u001b[0;36mhttp_response\u001b[0;34m(self, request, response)\u001b[0m\n\u001b[1;32m    546\u001b[0m         \u001b[1;32mif\u001b[0m \u001b[1;32mnot\u001b[0m \u001b[1;33m(\u001b[0m\u001b[1;36m200\u001b[0m \u001b[1;33m<=\u001b[0m \u001b[0mcode\u001b[0m \u001b[1;33m<\u001b[0m \u001b[1;36m300\u001b[0m\u001b[1;33m)\u001b[0m\u001b[1;33m:\u001b[0m\u001b[1;33m\u001b[0m\u001b[0m\n\u001b[1;32m    547\u001b[0m             response = self.parent.error(\n\u001b[0;32m--> 548\u001b[0;31m                 'http', request, response, code, msg, hdrs)\n\u001b[0m\u001b[1;32m    549\u001b[0m \u001b[1;33m\u001b[0m\u001b[0m\n\u001b[1;32m    550\u001b[0m         \u001b[1;32mreturn\u001b[0m \u001b[0mresponse\u001b[0m\u001b[1;33m\u001b[0m\u001b[0m\n",
      "\u001b[0;32mC:\\Anaconda2\\lib\\urllib2.pyc\u001b[0m in \u001b[0;36merror\u001b[0;34m(self, proto, *args)\u001b[0m\n\u001b[1;32m    471\u001b[0m         \u001b[1;32mif\u001b[0m \u001b[0mhttp_err\u001b[0m\u001b[1;33m:\u001b[0m\u001b[1;33m\u001b[0m\u001b[0m\n\u001b[1;32m    472\u001b[0m             \u001b[0margs\u001b[0m \u001b[1;33m=\u001b[0m \u001b[1;33m(\u001b[0m\u001b[0mdict\u001b[0m\u001b[1;33m,\u001b[0m \u001b[1;34m'default'\u001b[0m\u001b[1;33m,\u001b[0m \u001b[1;34m'http_error_default'\u001b[0m\u001b[1;33m)\u001b[0m \u001b[1;33m+\u001b[0m \u001b[0morig_args\u001b[0m\u001b[1;33m\u001b[0m\u001b[0m\n\u001b[0;32m--> 473\u001b[0;31m             \u001b[1;32mreturn\u001b[0m \u001b[0mself\u001b[0m\u001b[1;33m.\u001b[0m\u001b[0m_call_chain\u001b[0m\u001b[1;33m(\u001b[0m\u001b[1;33m*\u001b[0m\u001b[0margs\u001b[0m\u001b[1;33m)\u001b[0m\u001b[1;33m\u001b[0m\u001b[0m\n\u001b[0m\u001b[1;32m    474\u001b[0m \u001b[1;33m\u001b[0m\u001b[0m\n\u001b[1;32m    475\u001b[0m \u001b[1;31m# XXX probably also want an abstract factory that knows when it makes\u001b[0m\u001b[1;33m\u001b[0m\u001b[1;33m\u001b[0m\u001b[0m\n",
      "\u001b[0;32mC:\\Anaconda2\\lib\\urllib2.pyc\u001b[0m in \u001b[0;36m_call_chain\u001b[0;34m(self, chain, kind, meth_name, *args)\u001b[0m\n\u001b[1;32m    405\u001b[0m             \u001b[0mfunc\u001b[0m \u001b[1;33m=\u001b[0m \u001b[0mgetattr\u001b[0m\u001b[1;33m(\u001b[0m\u001b[0mhandler\u001b[0m\u001b[1;33m,\u001b[0m \u001b[0mmeth_name\u001b[0m\u001b[1;33m)\u001b[0m\u001b[1;33m\u001b[0m\u001b[0m\n\u001b[1;32m    406\u001b[0m \u001b[1;33m\u001b[0m\u001b[0m\n\u001b[0;32m--> 407\u001b[0;31m             \u001b[0mresult\u001b[0m \u001b[1;33m=\u001b[0m \u001b[0mfunc\u001b[0m\u001b[1;33m(\u001b[0m\u001b[1;33m*\u001b[0m\u001b[0margs\u001b[0m\u001b[1;33m)\u001b[0m\u001b[1;33m\u001b[0m\u001b[0m\n\u001b[0m\u001b[1;32m    408\u001b[0m             \u001b[1;32mif\u001b[0m \u001b[0mresult\u001b[0m \u001b[1;32mis\u001b[0m \u001b[1;32mnot\u001b[0m \u001b[0mNone\u001b[0m\u001b[1;33m:\u001b[0m\u001b[1;33m\u001b[0m\u001b[0m\n\u001b[1;32m    409\u001b[0m                 \u001b[1;32mreturn\u001b[0m \u001b[0mresult\u001b[0m\u001b[1;33m\u001b[0m\u001b[0m\n",
      "\u001b[0;32mC:\\Anaconda2\\lib\\urllib2.pyc\u001b[0m in \u001b[0;36mhttp_error_default\u001b[0;34m(self, req, fp, code, msg, hdrs)\u001b[0m\n\u001b[1;32m    554\u001b[0m \u001b[1;32mclass\u001b[0m \u001b[0mHTTPDefaultErrorHandler\u001b[0m\u001b[1;33m(\u001b[0m\u001b[0mBaseHandler\u001b[0m\u001b[1;33m)\u001b[0m\u001b[1;33m:\u001b[0m\u001b[1;33m\u001b[0m\u001b[0m\n\u001b[1;32m    555\u001b[0m     \u001b[1;32mdef\u001b[0m \u001b[0mhttp_error_default\u001b[0m\u001b[1;33m(\u001b[0m\u001b[0mself\u001b[0m\u001b[1;33m,\u001b[0m \u001b[0mreq\u001b[0m\u001b[1;33m,\u001b[0m \u001b[0mfp\u001b[0m\u001b[1;33m,\u001b[0m \u001b[0mcode\u001b[0m\u001b[1;33m,\u001b[0m \u001b[0mmsg\u001b[0m\u001b[1;33m,\u001b[0m \u001b[0mhdrs\u001b[0m\u001b[1;33m)\u001b[0m\u001b[1;33m:\u001b[0m\u001b[1;33m\u001b[0m\u001b[0m\n\u001b[0;32m--> 556\u001b[0;31m         \u001b[1;32mraise\u001b[0m \u001b[0mHTTPError\u001b[0m\u001b[1;33m(\u001b[0m\u001b[0mreq\u001b[0m\u001b[1;33m.\u001b[0m\u001b[0mget_full_url\u001b[0m\u001b[1;33m(\u001b[0m\u001b[1;33m)\u001b[0m\u001b[1;33m,\u001b[0m \u001b[0mcode\u001b[0m\u001b[1;33m,\u001b[0m \u001b[0mmsg\u001b[0m\u001b[1;33m,\u001b[0m \u001b[0mhdrs\u001b[0m\u001b[1;33m,\u001b[0m \u001b[0mfp\u001b[0m\u001b[1;33m)\u001b[0m\u001b[1;33m\u001b[0m\u001b[0m\n\u001b[0m\u001b[1;32m    557\u001b[0m \u001b[1;33m\u001b[0m\u001b[0m\n\u001b[1;32m    558\u001b[0m \u001b[1;32mclass\u001b[0m \u001b[0mHTTPRedirectHandler\u001b[0m\u001b[1;33m(\u001b[0m\u001b[0mBaseHandler\u001b[0m\u001b[1;33m)\u001b[0m\u001b[1;33m:\u001b[0m\u001b[1;33m\u001b[0m\u001b[0m\n",
      "\u001b[0;31mHTTPError\u001b[0m: HTTP Error 400: Bad Request"
     ]
    }
   ],
   "source": [
    "q='Meter 1'\n",
    "pd.read_json('http://ckan.lancaster.ac.uk:8080/api/action/datastore_search?resource_id=d61d8c2d-f3ce-422f-a477-f38a10157de3&q='+q)"
   ]
  }
 ],
 "metadata": {
  "anaconda-cloud": {},
  "kernelspec": {
   "display_name": "Python [conda root]",
   "language": "python",
   "name": "conda-root-py"
  },
  "language_info": {
   "codemirror_mode": {
    "name": "ipython",
    "version": 2
   },
   "file_extension": ".py",
   "mimetype": "text/x-python",
   "name": "python",
   "nbconvert_exporter": "python",
   "pygments_lexer": "ipython2",
   "version": "2.7.12"
  }
 },
 "nbformat": 4,
 "nbformat_minor": 1
}
